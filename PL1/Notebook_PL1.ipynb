{
 "cells": [
  {
   "cell_type": "code",
   "execution_count": null,
   "metadata": {
    "id": "12DzyWvuGl5O"
   },
   "outputs": [],
   "source": [
    "# !pip install qiskit #1.2.4 (16/10/2024)\n",
    "# !pip install qiskit-ibm-runtime #0.31.0 (16/10/2024)"
   ]
  },
  {
   "cell_type": "code",
   "execution_count": null,
   "metadata": {
    "id": "j8UKH0I6KxA5"
   },
   "outputs": [],
   "source": [
    "mytoken = \"06353dbf22bd268538497831a382bd1397af8e48a135db0f686f225ee9bc9955530ced704d96e545f0eab438434c9f5d63dbf7862c412c43d9a6ab99a65080f3\"\n",
    "from qiskit_ibm_runtime import QiskitRuntimeService\n",
    "service = QiskitRuntimeService(channel=\"ibm_quantum\", token=mytoken)\n",
    "\n",
    "backends = service.backends()\n",
    "for b in backends:\n",
    "  print(b.name,b.num_qubits)"
   ]
  },
  {
   "cell_type": "code",
   "execution_count": null,
   "metadata": {},
   "outputs": [],
   "source": [
    "print(\"Hola, mundo\")"
   ]
  }
 ],
 "metadata": {
  "colab": {
   "provenance": []
  },
  "kernelspec": {
   "display_name": "cc",
   "language": "python",
   "name": "python3"
  },
  "language_info": {
   "codemirror_mode": {
    "name": "ipython",
    "version": 3
   },
   "file_extension": ".py",
   "mimetype": "text/x-python",
   "name": "python",
   "nbconvert_exporter": "python",
   "pygments_lexer": "ipython3",
   "version": "3.10.6"
  }
 },
 "nbformat": 4,
 "nbformat_minor": 0
}
