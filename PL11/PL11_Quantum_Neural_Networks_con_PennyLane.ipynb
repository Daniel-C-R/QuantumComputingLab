{
 "cells": [
  {
   "cell_type": "markdown",
   "metadata": {
    "id": "VFKLmwnPTunr"
   },
   "source": [
    "# PL11 .- QUANTUM NEURAL NETWORKS\n",
    "\n",
    "En este notebook, vamos a mostrar cómo se pueden construir redes neuronales cuánticas integrando *PennyLane* con *Keras*.\n",
    "\n",
    "Comenzamos importando las librerías necesarias y fijando las semillas de los generadores aleatorios.\n"
   ]
  },
  {
   "cell_type": "code",
   "execution_count": null,
   "metadata": {
    "id": "NC-t5Pw_Tunt"
   },
   "outputs": [],
   "source": [
    "# !pip install pennylane\n",
    "# !pip install tensorflow==2.15\n",
    "# !pip install silence_tensorflow\n",
    "\n",
    "import matplotlib\n",
    "from matplotlib import pyplot as plt\n",
    "import numpy as np\n",
    "import tensorflow as tf\n",
    "import pennylane as qml\n",
    "import random\n",
    "import os\n",
    "\n",
    "os.environ['PYTHONHASHSEED']='0'\n",
    "\n",
    "rs = 12345  # Semilla aleatoria\n",
    "\n",
    "random.seed(rs)\n",
    "np.random.seed(rs)\n",
    "tf.random.set_seed(rs)\n",
    "\n",
    "from silence_tensorflow import silence_tensorflow\n",
    "silence_tensorflow()"
   ]
  },
  {
   "cell_type": "markdown",
   "metadata": {
    "id": "kgd5objcTunu"
   },
   "source": [
    "Creamos un conjunto de datos sencillo y los dividimos en entrenamiento y test."
   ]
  },
  {
   "cell_type": "code",
   "execution_count": null,
   "metadata": {
    "id": "QFwm-2lXTunu"
   },
   "outputs": [],
   "source": [
    "from sklearn.model_selection import train_test_split\n",
    "from sklearn.datasets import make_blobs\n",
    "\n",
    "X, y = make_blobs(n_samples=200, centers = [[0,2],[2,0]], random_state = rs)\n",
    "X_train, X_test, y_train, y_test = train_test_split(X, y, test_size=0.2, stratify = y, random_state=rs)\n",
    "plt.scatter(X[:, 0], X[:, 1], c = y, cmap=matplotlib.colors.ListedColormap([\"red\",\"green\"]));"
   ]
  },
  {
   "cell_type": "markdown",
   "metadata": {
    "id": "lyiw72EiTunu"
   },
   "source": [
    "Como vamos a usar *angle embedding*, escalamos los datos al intervalo $[0,\\pi]$."
   ]
  },
  {
   "cell_type": "code",
   "execution_count": null,
   "metadata": {
    "id": "834gKLalTunv"
   },
   "outputs": [],
   "source": [
    "from sklearn.preprocessing import MinMaxScaler\n",
    "\n",
    "scaler = MinMaxScaler(feature_range=(0,np.pi))\n",
    "X_train = scaler.fit_transform(X_train)\n",
    "X_test = scaler.transform(X_test)"
   ]
  },
  {
   "cell_type": "markdown",
   "metadata": {
    "id": "yzBHwo5iTunv"
   },
   "source": [
    "## REDES NEURONALES CUÁNTICAS"
   ]
  },
  {
   "cell_type": "markdown",
   "metadata": {
    "id": "LdliYk4ITunv"
   },
   "source": [
    "Definimos un circuito que entrenaremos para crear nuestra red neuronal cuántica. Como *feature map* usamos *angle embedding* (https://docs.pennylane.ai/en/stable/code/api/pennylane.AngleEmbedding.html) y como forma variacional utilizamos *BasicEntanglerLayers* (https://docs.pennylane.ai/en/stable/code/api/pennylane.BasicEntanglerLayers.html). Finalmente, medimos para comprobar si el primer qubit es 0 o 1.\n",
    "\n",
    "Ya que el conjunto de datos tiene dos atributos, usamos dos qubits.  "
   ]
  },
  {
   "cell_type": "code",
   "execution_count": null,
   "metadata": {
    "id": "gDIk8b3RTunv"
   },
   "outputs": [],
   "source": [
    "n_qubits = 2\n",
    "dev = qml.device(\"default.qubit\", wires=n_qubits)\n",
    "\n",
    "@qml.qnode(dev)\n",
    "def qnode(inputs, weights):\n",
    "    qml.templates.AngleEmbedding(inputs, wires=range(n_qubits))\n",
    "    qml.templates.BasicEntanglerLayers(weights, wires=range(n_qubits))\n",
    "    # Probablilidad de que el primer qubit sea un 0 o un 1\n",
    "    state_0 = [[1], [0]]\n",
    "    y = state_0 * np.conj(state_0).T\n",
    "    return [qml.expval(qml.Hermitian(y, wires=[0]))]"
   ]
  },
  {
   "cell_type": "markdown",
   "metadata": {
    "id": "l2leX8xuTunv"
   },
   "source": [
    "Para poder conectar *PennyLane* con *Keras* usamos *KerasLayer*, a la que debemos pasar un argumento *weight_shapes* con el formato de los parámetros de la forma variacional (los parámetros que se entrenarán)."
   ]
  },
  {
   "cell_type": "markdown",
   "metadata": {
    "id": "YRYJWZMjTunv"
   },
   "source": [
    "Probamos primero con una sola repetición de la forma variacional (*n_layers=1*)."
   ]
  },
  {
   "cell_type": "code",
   "execution_count": null,
   "metadata": {
    "id": "tiKn8QmRTunw"
   },
   "outputs": [],
   "source": [
    "n_layers = 1\n",
    "weight_shapes = {\"weights\": (n_layers, n_qubits)}\n",
    "qlayer = qml.qnn.KerasLayer(qnode, weight_shapes, output_dim=n_qubits)"
   ]
  },
  {
   "cell_type": "markdown",
   "metadata": {
    "id": "0EgDPbQrTunw"
   },
   "source": [
    "Construímos un modelo de Keras que tiene como única capa el circuito cuántico definido arriba. Para que el entrenamiento no sea excesivamente lento, aumentamos el *learning rate* hata 0.05."
   ]
  },
  {
   "cell_type": "code",
   "execution_count": null,
   "metadata": {
    "id": "v7kAhIw3Tunw"
   },
   "outputs": [],
   "source": [
    "model = tf.keras.models.Sequential([qlayer])\n",
    "opt = tf.keras.optimizers.Adam(learning_rate=0.05)\n",
    "model.compile(loss='binary_crossentropy', optimizer=opt, metrics=[\"accuracy\"])"
   ]
  },
  {
   "cell_type": "markdown",
   "metadata": {
    "id": "peBIWiBtTunw"
   },
   "source": [
    "Entrenamos durante 100 épocas con *early stopping*."
   ]
  },
  {
   "cell_type": "code",
   "execution_count": null,
   "metadata": {
    "id": "5UdOIVBOTunw"
   },
   "outputs": [],
   "source": [
    "early_stopping_cb = tf.keras.callbacks.EarlyStopping(patience=10, restore_best_weights=True)\n",
    "history = model.fit(X_train, y_train, epochs=100, validation_split=0.2, callbacks=[early_stopping_cb])"
   ]
  },
  {
   "cell_type": "code",
   "execution_count": null,
   "metadata": {
    "id": "6rUlabrNTunw"
   },
   "outputs": [],
   "source": [
    "import pandas as pd\n",
    "\n",
    "pd.DataFrame(history.history).plot(figsize=(8, 5))\n",
    "\n",
    "model.evaluate(X_test, y_test)"
   ]
  },
  {
   "cell_type": "markdown",
   "metadata": {
    "id": "PK0c0deQTunw"
   },
   "source": [
    "Los resultados son malos, pero es que el modelo sólo tiene dos parámetros."
   ]
  },
  {
   "cell_type": "code",
   "execution_count": null,
   "metadata": {
    "id": "LuB0DbmJTunw"
   },
   "outputs": [],
   "source": [
    "model.summary()"
   ]
  },
  {
   "cell_type": "markdown",
   "metadata": {
    "id": "t8IUgMkPTunw"
   },
   "source": [
    "Probamos ahora con dos repeticiones de la forma variacional."
   ]
  },
  {
   "cell_type": "code",
   "execution_count": null,
   "metadata": {
    "id": "xPS1qaGKTunx"
   },
   "outputs": [],
   "source": [
    "model = tf.keras.models.Sequential([qlayer])\n",
    "opt = tf.keras.optimizers.Adam(learning_rate=0.05)\n",
    "model.compile(loss='binary_crossentropy', optimizer = opt, metrics=[\"accuracy\"])"
   ]
  },
  {
   "cell_type": "code",
   "execution_count": null,
   "metadata": {
    "id": "tHES-DSHTunx"
   },
   "outputs": [],
   "source": [
    "early_stopping_cb = tf.keras.callbacks.EarlyStopping(patience=10, restore_best_weights=True)\n",
    "history = model.fit(X_train, y_train, epochs=100, validation_split=0.2, callbacks=[early_stopping_cb])"
   ]
  },
  {
   "cell_type": "code",
   "execution_count": null,
   "metadata": {
    "id": "vdtLyh07Tunx"
   },
   "outputs": [],
   "source": [
    "import pandas as pd\n",
    "\n",
    "pd.DataFrame(history.history).plot(figsize=(8, 5));\n",
    "\n",
    "model.evaluate(X_test, y_test)"
   ]
  },
  {
   "cell_type": "code",
   "execution_count": null,
   "metadata": {
    "id": "5YOxUw3HTunx"
   },
   "outputs": [],
   "source": [
    "model.summary()"
   ]
  },
  {
   "cell_type": "markdown",
   "metadata": {
    "id": "ywhsGhSETunx"
   },
   "source": [
    "Probemos a cambiar el tipo de forma variacional a *StronglyEntanglingLayers* (https://docs.pennylane.ai/en/stable/code/api/pennylane.StronglyEntanglingLayers.html).\n",
    "\n",
    "Nótese que ahora tenemos 3 parámetros por cada puerta de rotación.  "
   ]
  },
  {
   "cell_type": "code",
   "execution_count": null,
   "metadata": {
    "id": "4eKoZOP8Tunx"
   },
   "outputs": [],
   "source": [
    "@qml.qnode(dev)\n",
    "def qnode(inputs, weights):\n",
    "    qml.templates.AngleEmbedding(inputs, wires=range(n_qubits))\n",
    "    qml.templates.StronglyEntanglingLayers(weights, wires=range(n_qubits))\n",
    "    state_0 = [[1], [0]]\n",
    "    y = state_0 * np.conj(state_0).T\n",
    "    return [qml.expval(qml.Hermitian(y, wires=[0]))]\n",
    "\n",
    "n_layers = 1\n",
    "weight_shapes = {\"weights\": (n_layers, n_qubits,3)}\n",
    "qlayer = qml.qnn.KerasLayer(qnode, weight_shapes, output_dim=n_qubits)\n",
    "\n",
    "model = tf.keras.models.Sequential([qlayer])\n",
    "opt = tf.keras.optimizers.Adam(learning_rate=0.05)\n",
    "model.compile(loss='binary_crossentropy', optimizer = opt, metrics=[\"accuracy\"])"
   ]
  },
  {
   "cell_type": "code",
   "execution_count": null,
   "metadata": {
    "id": "NqDVAxYQTunx"
   },
   "outputs": [],
   "source": [
    "early_stopping_cb = tf.keras.callbacks.EarlyStopping(patience=10,\n",
    "                                                  restore_best_weights=True)\n",
    "history = model.fit(X_train, y_train, epochs=100,\n",
    "                    validation_split=0.2, callbacks=[early_stopping_cb])"
   ]
  },
  {
   "cell_type": "code",
   "execution_count": null,
   "metadata": {
    "id": "mzQFTVJuTuny"
   },
   "outputs": [],
   "source": [
    "import pandas as pd\n",
    "\n",
    "pd.DataFrame(history.history).plot(figsize=(8, 5));\n",
    "\n",
    "model.evaluate(X_test, y_test)"
   ]
  },
  {
   "cell_type": "code",
   "execution_count": null,
   "metadata": {
    "id": "u_EjxHjkTuny"
   },
   "outputs": [],
   "source": [
    "model.summary()"
   ]
  },
  {
   "cell_type": "markdown",
   "metadata": {
    "id": "Ij6KbNt6Tuny"
   },
   "source": [
    "Ahora, con dos repeticiones de la forma variacional."
   ]
  },
  {
   "cell_type": "code",
   "execution_count": null,
   "metadata": {
    "id": "Ksrac9RZTuny"
   },
   "outputs": [],
   "source": [
    "@qml.qnode(dev)\n",
    "def qnode(inputs, weights):\n",
    "    qml.templates.AngleEmbedding(inputs, wires=range(n_qubits))\n",
    "    qml.templates.StronglyEntanglingLayers(weights, wires=range(n_qubits))\n",
    "    state_0 = [[1], [0]]\n",
    "    y = state_0 * np.conj(state_0).T\n",
    "    return [qml.expval(qml.Hermitian(y, wires=[0]))]\n",
    "\n",
    "n_layers = 2\n",
    "weight_shapes = {\"weights\": (n_layers, n_qubits,3)}\n",
    "qlayer = qml.qnn.KerasLayer(qnode, weight_shapes, output_dim=n_qubits)\n",
    "\n",
    "model = tf.keras.models.Sequential([qlayer])\n",
    "opt = tf.keras.optimizers.Adam(learning_rate=0.05)\n",
    "model.compile(loss='binary_crossentropy', optimizer = opt, metrics=[\"accuracy\"])"
   ]
  },
  {
   "cell_type": "code",
   "execution_count": null,
   "metadata": {
    "id": "OVWaN8CYTuny"
   },
   "outputs": [],
   "source": [
    "early_stopping_cb = tf.keras.callbacks.EarlyStopping(patience=10,\n",
    "                                                  restore_best_weights=True)\n",
    "history = model.fit(X_train, y_train, epochs=100,\n",
    "                    validation_split=0.2, callbacks=[early_stopping_cb])"
   ]
  },
  {
   "cell_type": "code",
   "execution_count": null,
   "metadata": {
    "id": "WVDZzyqzTuny"
   },
   "outputs": [],
   "source": [
    "import pandas as pd\n",
    "\n",
    "pd.DataFrame(history.history).plot(figsize=(8, 5));\n",
    "\n",
    "model.evaluate(X_test, y_test)"
   ]
  },
  {
   "cell_type": "code",
   "execution_count": null,
   "metadata": {
    "id": "9viwxTRhTuny"
   },
   "outputs": [],
   "source": [
    "model.summary()"
   ]
  },
  {
   "cell_type": "markdown",
   "metadata": {
    "id": "xuF35Jw4Mgda"
   },
   "source": [
    "## EJERCICIO\n",
    "\n",
    "Crear una red cuántica para un problema de clasificación binaria con 4 variables de entrada. ¿Cuántos qubits tienes que usar en la capa cuántica?"
   ]
  },
  {
   "cell_type": "code",
   "execution_count": null,
   "metadata": {},
   "outputs": [],
   "source": [
    "@qml.qnode(dev)\n",
    "def qnode(inputs, weights):\n",
    "    qml.templates.AngleEmbedding(inputs, wires=range(n_qubits))\n",
    "    qml.templates.StronglyEntanglingLayers(weights, wires=range(n_qubits))\n",
    "    state_0 = [[1], [0]]\n",
    "    y = state_0 * np.conj(state_0).T\n",
    "    return [qml.expval(qml.Hermitian(y, wires=[0]))]\n",
    "\n",
    "n_layers = 4\n",
    "weight_shapes = {\"weights\": (n_layers, n_qubits,3)}\n",
    "qlayer = qml.qnn.KerasLayer(qnode, weight_shapes, output_dim=n_qubits)\n",
    "\n",
    "model = tf.keras.models.Sequential([qlayer])\n",
    "opt = tf.keras.optimizers.Adam(learning_rate=0.05)\n",
    "model.compile(loss='binary_crossentropy', optimizer = opt, metrics=[\"accuracy\"])"
   ]
  },
  {
   "cell_type": "code",
   "execution_count": null,
   "metadata": {},
   "outputs": [],
   "source": [
    "early_stopping_cb = tf.keras.callbacks.EarlyStopping(patience=10,\n",
    "                                                  restore_best_weights=True)\n",
    "history = model.fit(X_train, y_train, epochs=100,\n",
    "                    validation_split=0.2, callbacks=[early_stopping_cb])"
   ]
  },
  {
   "cell_type": "code",
   "execution_count": null,
   "metadata": {},
   "outputs": [],
   "source": [
    "import pandas as pd\n",
    "\n",
    "pd.DataFrame(history.history).plot(figsize=(8, 5));\n",
    "\n",
    "model.evaluate(X_test, y_test)"
   ]
  },
  {
   "cell_type": "code",
   "execution_count": null,
   "metadata": {},
   "outputs": [],
   "source": [
    "model.summary()"
   ]
  }
 ],
 "metadata": {
  "colab": {
   "provenance": []
  },
  "kernelspec": {
   "display_name": "base",
   "language": "python",
   "name": "python3"
  },
  "language_info": {
   "codemirror_mode": {
    "name": "ipython",
    "version": 3
   },
   "file_extension": ".py",
   "mimetype": "text/x-python",
   "name": "python",
   "nbconvert_exporter": "python",
   "pygments_lexer": "ipython3",
   "version": "3.9.21"
  }
 },
 "nbformat": 4,
 "nbformat_minor": 0
}
