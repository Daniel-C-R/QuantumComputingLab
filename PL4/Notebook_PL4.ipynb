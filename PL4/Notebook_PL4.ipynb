{
  "nbformat": 4,
  "nbformat_minor": 0,
  "metadata": {
    "colab": {
      "provenance": []
    },
    "kernelspec": {
      "name": "python3",
      "display_name": "Python 3"
    },
    "language_info": {
      "name": "python"
    }
  },
  "cells": [
    {
      "cell_type": "markdown",
      "source": [
        "#PL4: CIRCUITOS DE DOS QUBITS EN QISKIT"
      ],
      "metadata": {
        "id": "Lv5-81rqnFt4"
      }
    },
    {
      "cell_type": "markdown",
      "source": [
        "Comenzamos instalando las librerías necesarias. En el momento de creación de este notebook, las versiones actuales son:\n",
        "\n",
        "\n",
        "*   Qiskit: 1.2.4\n",
        "*   Qiskit IBM Runtime: 0.30.0\n",
        "*   Qiskit Aer: 0.15.1\n",
        "*   Pylatexenc: 2.10\n",
        "\n"
      ],
      "metadata": {
        "id": "ibCeJ7NQnO0Q"
      }
    },
    {
      "cell_type": "code",
      "execution_count": null,
      "metadata": {
        "id": "8nmMqzVbfWCa"
      },
      "outputs": [],
      "source": [
        "!pip install qiskit\n",
        "!pip install qiskit-ibm-runtime\n",
        "!pip install qiskit_aer\n",
        "!pip install pylatexenc"
      ]
    },
    {
      "cell_type": "markdown",
      "source": [
        "Trabajar con dos qubits es muy parecido a trabajar con un qubit. Las diferencias son que:\n",
        "\n",
        "* Declararemos dos qubits y dos bits al crear el circuito\n",
        "* Las puertas de dos qubits, como la CNOT, reciben como argumentos los dos qubits sobre los que actúan\n",
        "* Al medir, podemos medir todos los qubits\n",
        "\n",
        "Como ejemplo, vamos a crear un circuito para preparar un estado entrelazado (un estado de Bell, en concreto) de la forma $$\\frac{1}{\\sqrt{2}}(|00>+|11>)$$"
      ],
      "metadata": {
        "id": "OLMe_gben2Su"
      }
    },
    {
      "cell_type": "code",
      "source": [
        "from qiskit import QuantumCircuit\n",
        "\n",
        "qc = QuantumCircuit(2,2)\n",
        "qc.h(0)\n",
        "qc.cx(0,1) # Puerta CNOT o CX. El primer qubit es el control y el segundo es el target\n",
        "qc.measure(range(2),range(2)) # Medimos todos los qubits y recibimos los resultados en los bits clásicos\n",
        "\n",
        "qc.draw(\"mpl\")"
      ],
      "metadata": {
        "id": "I2iJ9OwsgRKt"
      },
      "execution_count": null,
      "outputs": []
    },
    {
      "cell_type": "markdown",
      "source": [
        "Utilizamos un simulador para ejecutar el circuito. Utilizamos 10 shots (ejecuciones) y una semilla (1234) para que los resultados sean reproducibles."
      ],
      "metadata": {
        "id": "ROsqDyTtn_gA"
      }
    },
    {
      "cell_type": "code",
      "source": [
        "from qiskit_ibm_runtime import SamplerV2 as Sampler\n",
        "from qiskit_aer import AerSimulator\n",
        "\n",
        "\n",
        "sampler = Sampler(AerSimulator(seed_simulator = 1234))\n",
        "job = sampler.run([qc], shots = 10)\n",
        "results = job.result()\n",
        "d = results[0].data.c # Acceso a los valores de las mediciones\n",
        "print(\"Número de ejercuciones:\", d.num_shots)\n",
        "print(\"Estadísticas de las ejecuciones:\", d.get_counts())\n",
        "print(\"Resultados de las medidas:\", d.array)\n",
        "print(\"Resultados de las medidas como cadenas de texto:\", d.get_bitstrings())\n"
      ],
      "metadata": {
        "id": "1-pP4x0ggcEQ"
      },
      "execution_count": null,
      "outputs": []
    },
    {
      "cell_type": "markdown",
      "source": [
        "Ahora, vamos a calcular de forma exacta las amplitudes del vector de estado final."
      ],
      "metadata": {
        "id": "cGJX9mq4ucNt"
      }
    },
    {
      "cell_type": "code",
      "source": [
        "qc.remove_final_measurements()\n",
        "from qiskit.quantum_info import Statevector\n",
        "statevector = Statevector(qc)\n",
        "print(\"Amplitudes del vector de estado:\", statevector)"
      ],
      "metadata": {
        "id": "Mb26W3xfct7l"
      },
      "execution_count": null,
      "outputs": []
    },
    {
      "cell_type": "markdown",
      "source": [
        "##EJERCICIOS"
      ],
      "metadata": {
        "id": "BXYM1WC7x6V5"
      }
    },
    {
      "cell_type": "markdown",
      "source": [
        "1.- Crea un circuito que prepare un estado entrelazado de la forma $$\\frac{1}{\\sqrt{2}}(|01>+|10>)$$\n",
        "\n",
        "Ejecútalo diez veces. ¿Qué valores obtienes?\n",
        "\n",
        "Obtén el vector de estado y comprueba que se corresponde con el estado que querías preparar.\n",
        "\n",
        "\n",
        "\n"
      ],
      "metadata": {
        "id": "ZN6zgU5-yabY"
      }
    },
    {
      "cell_type": "code",
      "source": [],
      "metadata": {
        "id": "bhdCJrk9_GO8"
      },
      "execution_count": null,
      "outputs": []
    },
    {
      "cell_type": "markdown",
      "source": [
        "2.- Crea un circuito que prepare un estado entrelazado de la forma $$\\frac{1}{\\sqrt{2}}(|00>-|11>)$$\n",
        "\n",
        "Ejecútalo diez veces. ¿Qué valores obtienes?\n",
        "\n",
        "Obtén el vector de estado y comprueba que se corresponde con el estado que querías preparar.\n",
        "\n",
        "\n",
        "\n"
      ],
      "metadata": {
        "id": "I8D539_R_HH-"
      }
    },
    {
      "cell_type": "code",
      "source": [],
      "metadata": {
        "id": "d4MEp_o-_H8m"
      },
      "execution_count": null,
      "outputs": []
    },
    {
      "cell_type": "markdown",
      "source": [
        "3.- Crea un circuito que prepare un estado entrelazado de la forma $$\\frac{1}{\\sqrt{2}}(|01>-|10>)$$\n",
        "\n",
        "Ejecútalo diez veces. ¿Qué valores obtienes?\n",
        "\n",
        "Obtén el vector de estado y comprueba que se corresponde con el estado que querías preparar.\n",
        "\n",
        "\n",
        "\n"
      ],
      "metadata": {
        "id": "BFcztrcN_E-7"
      }
    },
    {
      "cell_type": "code",
      "source": [],
      "metadata": {
        "id": "5mT6Bw6Cx-Aq"
      },
      "execution_count": null,
      "outputs": []
    },
    {
      "cell_type": "markdown",
      "source": [
        "4.- (Opcional) Ejecuta alguno de los circuitos de este notebook en un ordenador cuántico real. ¿Qué resultados obtienes? ¿Por qué?"
      ],
      "metadata": {
        "id": "MNonPCYV_ZWB"
      }
    },
    {
      "cell_type": "code",
      "source": [],
      "metadata": {
        "id": "NsFX0QLW_lhK"
      },
      "execution_count": null,
      "outputs": []
    }
  ]
}