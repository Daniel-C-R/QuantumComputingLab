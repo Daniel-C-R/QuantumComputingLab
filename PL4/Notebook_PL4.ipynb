{
  "cells": [
    {
      "cell_type": "markdown",
      "metadata": {
        "id": "Lv5-81rqnFt4"
      },
      "source": [
        "#PL4: CIRCUITOS DE DOS QUBITS EN QISKIT"
      ]
    },
    {
      "cell_type": "markdown",
      "metadata": {
        "id": "ibCeJ7NQnO0Q"
      },
      "source": [
        "Comenzamos instalando las librerías necesarias. En el momento de creación de este notebook, las versiones actuales son:\n",
        "\n",
        "\n",
        "*   Qiskit: 1.2.4\n",
        "*   Qiskit IBM Runtime: 0.30.0\n",
        "*   Qiskit Aer: 0.15.1\n",
        "*   Pylatexenc: 2.10\n",
        "\n"
      ]
    },
    {
      "cell_type": "code",
      "execution_count": null,
      "metadata": {
        "id": "8nmMqzVbfWCa"
      },
      "outputs": [],
      "source": [
        "# !pip install qiskit\n",
        "# !pip install qiskit-ibm-runtime\n",
        "# !pip install qiskit_aer\n",
        "# !pip install pylatexenc"
      ]
    },
    {
      "cell_type": "markdown",
      "metadata": {
        "id": "OLMe_gben2Su"
      },
      "source": [
        "Trabajar con dos qubits es muy parecido a trabajar con un qubit. Las diferencias son que:\n",
        "\n",
        "* Declararemos dos qubits y dos bits al crear el circuito\n",
        "* Las puertas de dos qubits, como la CNOT, reciben como argumentos los dos qubits sobre los que actúan\n",
        "* Al medir, podemos medir todos los qubits\n",
        "\n",
        "Como ejemplo, vamos a crear un circuito para preparar un estado entrelazado (un estado de Bell, en concreto) de la forma $$\\frac{1}{\\sqrt{2}}(|00>+|11>)$$"
      ]
    },
    {
      "cell_type": "code",
      "execution_count": null,
      "metadata": {
        "id": "I2iJ9OwsgRKt"
      },
      "outputs": [],
      "source": [
        "from qiskit import QuantumCircuit\n",
        "\n",
        "qc = QuantumCircuit(2,2)\n",
        "qc.h(0)\n",
        "qc.cx(0,1) # Puerta CNOT o CX. El primer qubit es el control y el segundo es el target\n",
        "qc.measure(range(2),range(2)) # Medimos todos los qubits y recibimos los resultados en los bits clásicos\n",
        "\n",
        "qc.draw(\"mpl\")"
      ]
    },
    {
      "cell_type": "markdown",
      "metadata": {
        "id": "ROsqDyTtn_gA"
      },
      "source": [
        "Utilizamos un simulador para ejecutar el circuito. Utilizamos 10 shots (ejecuciones) y una semilla (1234) para que los resultados sean reproducibles."
      ]
    },
    {
      "cell_type": "code",
      "execution_count": null,
      "metadata": {
        "id": "1-pP4x0ggcEQ"
      },
      "outputs": [],
      "source": [
        "from qiskit_ibm_runtime import SamplerV2 as Sampler\n",
        "from qiskit_aer import AerSimulator\n",
        "\n",
        "\n",
        "sampler = Sampler(AerSimulator(seed_simulator = 1234))\n",
        "job = sampler.run([qc], shots = 10)\n",
        "results = job.result()\n",
        "d = results[0].data.c # Acceso a los valores de las mediciones\n",
        "print(\"Número de ejercuciones:\", d.num_shots)\n",
        "print(\"Estadísticas de las ejecuciones:\", d.get_counts())\n",
        "print(\"Resultados de las medidas:\", d.array)\n",
        "print(\"Resultados de las medidas como cadenas de texto:\", d.get_bitstrings())\n"
      ]
    },
    {
      "cell_type": "markdown",
      "metadata": {
        "id": "cGJX9mq4ucNt"
      },
      "source": [
        "Ahora, vamos a calcular de forma exacta las amplitudes del vector de estado final."
      ]
    },
    {
      "cell_type": "code",
      "execution_count": null,
      "metadata": {
        "id": "Mb26W3xfct7l"
      },
      "outputs": [],
      "source": [
        "qc.remove_final_measurements()\n",
        "from qiskit.quantum_info import Statevector\n",
        "statevector = Statevector(qc)\n",
        "print(\"Amplitudes del vector de estado:\", statevector)"
      ]
    },
    {
      "cell_type": "markdown",
      "metadata": {
        "id": "BXYM1WC7x6V5"
      },
      "source": [
        "##EJERCICIOS"
      ]
    },
    {
      "cell_type": "markdown",
      "metadata": {
        "id": "ZN6zgU5-yabY"
      },
      "source": [
        "1.- Crea un circuito que prepare un estado entrelazado de la forma $$\\frac{1}{\\sqrt{2}}(|01>+|10>)$$\n",
        "\n",
        "Ejecútalo diez veces. ¿Qué valores obtienes?\n",
        "\n",
        "Obtén el vector de estado y comprueba que se corresponde con el estado que querías preparar.\n",
        "\n",
        "\n",
        "\n"
      ]
    },
    {
      "cell_type": "code",
      "execution_count": null,
      "metadata": {
        "id": "bhdCJrk9_GO8"
      },
      "outputs": [],
      "source": []
    },
    {
      "cell_type": "markdown",
      "metadata": {
        "id": "I8D539_R_HH-"
      },
      "source": [
        "2.- Crea un circuito que prepare un estado entrelazado de la forma $$\\frac{1}{\\sqrt{2}}(|00>-|11>)$$\n",
        "\n",
        "Ejecútalo diez veces. ¿Qué valores obtienes?\n",
        "\n",
        "Obtén el vector de estado y comprueba que se corresponde con el estado que querías preparar.\n",
        "\n",
        "\n",
        "\n"
      ]
    },
    {
      "cell_type": "code",
      "execution_count": null,
      "metadata": {
        "id": "d4MEp_o-_H8m"
      },
      "outputs": [],
      "source": []
    },
    {
      "cell_type": "markdown",
      "metadata": {
        "id": "BFcztrcN_E-7"
      },
      "source": [
        "3.- Crea un circuito que prepare un estado entrelazado de la forma $$\\frac{1}{\\sqrt{2}}(|01>-|10>)$$\n",
        "\n",
        "Ejecútalo diez veces. ¿Qué valores obtienes?\n",
        "\n",
        "Obtén el vector de estado y comprueba que se corresponde con el estado que querías preparar.\n",
        "\n",
        "\n",
        "\n"
      ]
    },
    {
      "cell_type": "code",
      "execution_count": null,
      "metadata": {
        "id": "5mT6Bw6Cx-Aq"
      },
      "outputs": [],
      "source": []
    },
    {
      "cell_type": "markdown",
      "metadata": {
        "id": "MNonPCYV_ZWB"
      },
      "source": [
        "4.- (Opcional) Ejecuta alguno de los circuitos de este notebook en un ordenador cuántico real. ¿Qué resultados obtienes? ¿Por qué?"
      ]
    },
    {
      "cell_type": "code",
      "execution_count": null,
      "metadata": {
        "id": "NsFX0QLW_lhK"
      },
      "outputs": [],
      "source": []
    }
  ],
  "metadata": {
    "colab": {
      "provenance": []
    },
    "kernelspec": {
      "display_name": "base",
      "language": "python",
      "name": "python3"
    },
    "language_info": {
      "codemirror_mode": {
        "name": "ipython",
        "version": 3
      },
      "file_extension": ".py",
      "mimetype": "text/x-python",
      "name": "python",
      "nbconvert_exporter": "python",
      "pygments_lexer": "ipython3",
      "version": "3.9.21"
    }
  },
  "nbformat": 4,
  "nbformat_minor": 0
}
