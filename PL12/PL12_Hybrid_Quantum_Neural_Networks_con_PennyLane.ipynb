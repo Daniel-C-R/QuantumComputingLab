{
  "cells": [
    {
      "cell_type": "markdown",
      "metadata": {
        "id": "VFKLmwnPTunr"
      },
      "source": [
        "# PL12 .- HYBRID QUANTUM NEURAL NETWORKS\n",
        "\n",
        "En este notebook, vamos a mostrar cómo se pueden construir redes neuronales cuánticas híbridas integrando *pennylane* con *Keras*.\n",
        "\n",
        "Comenzamos importando las librerías necesarias y fijando las semillas de los generadores aleatorios."
      ]
    },
    {
      "cell_type": "code",
      "execution_count": null,
      "metadata": {
        "id": "NC-t5Pw_Tunt"
      },
      "outputs": [],
      "source": [
        "# !pip install pennylane\n",
        "# !pip install tensorflow==2.15\n",
        "# !pip install silence_tensorflow\n",
        "\n",
        "import matplotlib\n",
        "from matplotlib import pyplot as plt\n",
        "import numpy as np\n",
        "import tensorflow as tf\n",
        "import pennylane as qml\n",
        "import random\n",
        "import os\n",
        "\n",
        "os.environ['PYTHONHASHSEED']='0'\n",
        "\n",
        "rs = 12345  # Semilla aleatoria\n",
        "\n",
        "random.seed(rs)\n",
        "np.random.seed(rs)\n",
        "tf.random.set_seed(rs)\n",
        "\n",
        "from silence_tensorflow import silence_tensorflow\n",
        "silence_tensorflow()"
      ]
    },
    {
      "cell_type": "markdown",
      "metadata": {
        "id": "kgd5objcTunu"
      },
      "source": [
        "Creamos un conjunto de datos sencillo y los dividimos en entrenamiento y test."
      ]
    },
    {
      "cell_type": "code",
      "execution_count": null,
      "metadata": {
        "id": "QFwm-2lXTunu"
      },
      "outputs": [],
      "source": [
        "from sklearn.model_selection import train_test_split\n",
        "from sklearn.datasets import make_blobs\n",
        "\n",
        "X, y = make_blobs(n_samples=200, centers = [[0,2],[2,0]], random_state = rs)\n",
        "X_train, X_test, y_train, y_test = train_test_split(X, y, test_size=0.2, stratify = y, random_state=rs)\n",
        "plt.scatter(X[:, 0], X[:, 1], c = y, cmap=matplotlib.colors.ListedColormap([\"red\",\"green\"]));"
      ]
    },
    {
      "cell_type": "markdown",
      "metadata": {
        "id": "lyiw72EiTunu"
      },
      "source": [
        "Como vamos a usar *angle embedding*, escalamos los datos al intervalo $[0,\\pi]$."
      ]
    },
    {
      "cell_type": "code",
      "execution_count": null,
      "metadata": {
        "id": "834gKLalTunv"
      },
      "outputs": [],
      "source": [
        "from sklearn.preprocessing import MinMaxScaler\n",
        "\n",
        "scaler = MinMaxScaler(feature_range=(0,np.pi))\n",
        "X_train = scaler.fit_transform(X_train)\n",
        "X_test = scaler.transform(X_test)"
      ]
    },
    {
      "cell_type": "markdown",
      "metadata": {
        "id": "aU9cP8iYTuny"
      },
      "source": [
        "## REDES NEURONALES HÍBRIDAS"
      ]
    },
    {
      "cell_type": "markdown",
      "metadata": {
        "id": "_FK4ILn9Tunz"
      },
      "source": [
        "Cuando tenemos una capa de Keras que es, en realidad, un circuito cuántico, se abre la posibilidad de combinar capas clásicas y cuánticas: es lo que llamamos redes neuronales híbridas.\n",
        "\n",
        "Para crearlas, podemos simplemente usar el modelo secuencial de Keras y combinar capas de un tipo y de otro, teniendo en cuenta el número de entradas y salidas que tiene cada una. Una ventaja de este enfoque es que podemos fácilmente reducir el número de atributos con una primera capa clásica.\n",
        "\n",
        "Nótese que en el circuito cuántico ahora devolvemos tantos valores como qubits hay.\n",
        "\n",
        "Empezamos con una sola repetición de la forma variacional en la capa cuántica."
      ]
    },
    {
      "cell_type": "code",
      "execution_count": null,
      "metadata": {
        "id": "EABObOK0Tunz"
      },
      "outputs": [],
      "source": [
        "n_qubits = 2\n",
        "dev = qml.device(\"default.qubit\", wires=n_qubits)\n",
        "\n",
        "@qml.qnode(dev)\n",
        "def qnode(inputs, weights):\n",
        "    qml.templates.AngleEmbedding(inputs, wires=range(n_qubits))\n",
        "    qml.templates.StronglyEntanglingLayers(weights, wires=range(n_qubits))\n",
        "    return [qml.expval(qml.PauliZ(i)) for i in range(n_qubits)]\n",
        "\n",
        "n_layers = 1\n",
        "weight_shapes = {\"weights\": (n_layers, n_qubits, 3)}\n",
        "\n",
        "model = tf.keras.models.Sequential()\n",
        "model.add(tf.keras.layers.Dense(n_qubits,activation='relu',input_dim=2))\n",
        "model.add(qml.qnn.KerasLayer(qnode, weight_shapes, output_dim=n_qubits))\n",
        "model.add(tf.keras.layers.Dense(1, activation='sigmoid'))\n",
        "\n",
        "opt = tf.keras.optimizers.Adam(learning_rate=0.05)\n",
        "model.compile(loss='binary_crossentropy', optimizer = opt, metrics=[\"accuracy\"])"
      ]
    },
    {
      "cell_type": "code",
      "execution_count": null,
      "metadata": {
        "id": "Fguxvw7YTunz"
      },
      "outputs": [],
      "source": [
        "early_stopping_cb = tf.keras.callbacks.EarlyStopping(patience=10,\n",
        "                                                  restore_best_weights=True)\n",
        "history = model.fit(X_train, y_train, epochs=100,\n",
        "                    validation_split=0.2, callbacks=[early_stopping_cb])"
      ]
    },
    {
      "cell_type": "code",
      "execution_count": null,
      "metadata": {
        "id": "jRYNFK03Tun3"
      },
      "outputs": [],
      "source": [
        "import pandas as pd\n",
        "\n",
        "pd.DataFrame(history.history).plot(figsize=(8, 5));\n",
        "\n",
        "model.evaluate(X_test, y_test)"
      ]
    },
    {
      "cell_type": "code",
      "execution_count": null,
      "metadata": {
        "id": "Z0WPvyVDTun3"
      },
      "outputs": [],
      "source": [
        "model.summary()"
      ]
    },
    {
      "cell_type": "markdown",
      "metadata": {
        "id": "5Bu3dGL0Tun3"
      },
      "source": [
        "Ahora, usamos dos repeticiones de la forma variacional."
      ]
    },
    {
      "cell_type": "code",
      "execution_count": null,
      "metadata": {
        "id": "F3KzjKA7Tun3"
      },
      "outputs": [],
      "source": [
        "n_qubits = 2\n",
        "dev = qml.device(\"default.qubit\", wires=n_qubits)\n",
        "\n",
        "@qml.qnode(dev)\n",
        "def qnode(inputs, weights):\n",
        "    qml.templates.AngleEmbedding(inputs, wires=range(n_qubits))\n",
        "    qml.templates.StronglyEntanglingLayers(weights, wires=range(n_qubits))\n",
        "    return [qml.expval(qml.PauliZ(i)) for i in range(n_qubits)]\n",
        "\n",
        "n_layers = 2\n",
        "weight_shapes = {\"weights\": (n_layers, n_qubits, 3)}\n",
        "\n",
        "model = tf.keras.models.Sequential()\n",
        "model.add(tf.keras.layers.Dense(n_qubits,activation='relu',input_dim=2))\n",
        "model.add(qml.qnn.KerasLayer(qnode, weight_shapes, output_dim=n_qubits))\n",
        "model.add(tf.keras.layers.Dense(1, activation='sigmoid'))\n",
        "\n",
        "opt = tf.keras.optimizers.Adam(learning_rate=0.05)\n",
        "model.compile(loss='binary_crossentropy', optimizer = opt, metrics=[\"accuracy\"])"
      ]
    },
    {
      "cell_type": "code",
      "execution_count": null,
      "metadata": {
        "id": "S9lmT3otTun4"
      },
      "outputs": [],
      "source": [
        "early_stopping_cb = tf.keras.callbacks.EarlyStopping(patience=10,\n",
        "                                                  restore_best_weights=True)\n",
        "history = model.fit(X_train, y_train, epochs=100,\n",
        "                    validation_split=0.2, callbacks=[early_stopping_cb])"
      ]
    },
    {
      "cell_type": "code",
      "execution_count": null,
      "metadata": {
        "id": "0-o3fZTSTun4"
      },
      "outputs": [],
      "source": [
        "pd.DataFrame(history.history).plot(figsize=(8, 5));\n",
        "\n",
        "model.evaluate(X_test, y_test)"
      ]
    },
    {
      "cell_type": "code",
      "execution_count": null,
      "metadata": {
        "id": "AaaQEtSGTun4"
      },
      "outputs": [],
      "source": [
        "model.summary()"
      ]
    },
    {
      "cell_type": "markdown",
      "metadata": {
        "id": "xgXT4tijMLod"
      },
      "source": [
        "## EJERCICIO\n",
        "\n",
        "Crear una red híbrida para un problema de clasificación binaria con 50 variables de entrada (por ejemplo, con *make_classification*, de *SciKit Learn*). Usar una capa cuántica de 8 qubits."
      ]
    }
  ],
  "metadata": {
    "colab": {
      "provenance": []
    },
    "kernelspec": {
      "display_name": "base",
      "language": "python",
      "name": "python3"
    },
    "language_info": {
      "codemirror_mode": {
        "name": "ipython",
        "version": 3
      },
      "file_extension": ".py",
      "mimetype": "text/x-python",
      "name": "python",
      "nbconvert_exporter": "python",
      "pygments_lexer": "ipython3",
      "version": "3.9.21"
    }
  },
  "nbformat": 4,
  "nbformat_minor": 0
}
