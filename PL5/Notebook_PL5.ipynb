{
 "cells": [
  {
   "cell_type": "markdown",
   "metadata": {
    "id": "Lv5-81rqnFt4"
   },
   "source": [
    "#PL5: EL ALGORITMO DE DEUTSCH"
   ]
  },
  {
   "cell_type": "markdown",
   "metadata": {
    "id": "ibCeJ7NQnO0Q"
   },
   "source": [
    "Comenzamos instalando las librerías necesarias. En el momento de creación de este notebook, las versiones actuales son:\n",
    "\n",
    "\n",
    "*   Qiskit: 1.2.4\n",
    "*   Qiskit IBM Runtime: 0.30.0\n",
    "*   Qiskit Aer: 0.15.1\n",
    "*   Pylatexenc: 2.10\n",
    "\n"
   ]
  },
  {
   "cell_type": "code",
   "execution_count": 2,
   "metadata": {
    "id": "8nmMqzVbfWCa"
   },
   "outputs": [
    {
     "name": "stdout",
     "output_type": "stream",
     "text": [
      "Requirement already satisfied: qiskit in /Users/daniel/Library/CloudStorage/OneDrive-UniversidaddeOviedo/Asignaturas/Computación Cuántica/.venv/lib/python3.10/site-packages (1.2.4)\n",
      "Requirement already satisfied: python-dateutil>=2.8.0 in /Users/daniel/Library/CloudStorage/OneDrive-UniversidaddeOviedo/Asignaturas/Computación Cuántica/.venv/lib/python3.10/site-packages (from qiskit) (2.9.0.post0)\n",
      "Requirement already satisfied: sympy>=1.3 in /Users/daniel/Library/CloudStorage/OneDrive-UniversidaddeOviedo/Asignaturas/Computación Cuántica/.venv/lib/python3.10/site-packages (from qiskit) (1.13.3)\n",
      "Requirement already satisfied: symengine<0.14,>=0.11 in /Users/daniel/Library/CloudStorage/OneDrive-UniversidaddeOviedo/Asignaturas/Computación Cuántica/.venv/lib/python3.10/site-packages (from qiskit) (0.13.0)\n",
      "Requirement already satisfied: dill>=0.3 in /Users/daniel/Library/CloudStorage/OneDrive-UniversidaddeOviedo/Asignaturas/Computación Cuántica/.venv/lib/python3.10/site-packages (from qiskit) (0.3.9)\n",
      "Requirement already satisfied: stevedore>=3.0.0 in /Users/daniel/Library/CloudStorage/OneDrive-UniversidaddeOviedo/Asignaturas/Computación Cuántica/.venv/lib/python3.10/site-packages (from qiskit) (5.4.0)\n",
      "Requirement already satisfied: scipy>=1.5 in /Users/daniel/Library/CloudStorage/OneDrive-UniversidaddeOviedo/Asignaturas/Computación Cuántica/.venv/lib/python3.10/site-packages (from qiskit) (1.14.1)\n",
      "Requirement already satisfied: rustworkx>=0.15.0 in /Users/daniel/Library/CloudStorage/OneDrive-UniversidaddeOviedo/Asignaturas/Computación Cuántica/.venv/lib/python3.10/site-packages (from qiskit) (0.15.1)\n",
      "Requirement already satisfied: typing-extensions in /Users/daniel/Library/CloudStorage/OneDrive-UniversidaddeOviedo/Asignaturas/Computación Cuántica/.venv/lib/python3.10/site-packages (from qiskit) (4.12.2)\n",
      "Requirement already satisfied: numpy<3,>=1.17 in /Users/daniel/Library/CloudStorage/OneDrive-UniversidaddeOviedo/Asignaturas/Computación Cuántica/.venv/lib/python3.10/site-packages (from qiskit) (2.1.3)\n",
      "Requirement already satisfied: six>=1.5 in /Users/daniel/Library/CloudStorage/OneDrive-UniversidaddeOviedo/Asignaturas/Computación Cuántica/.venv/lib/python3.10/site-packages (from python-dateutil>=2.8.0->qiskit) (1.16.0)\n",
      "Requirement already satisfied: pbr>=2.0.0 in /Users/daniel/Library/CloudStorage/OneDrive-UniversidaddeOviedo/Asignaturas/Computación Cuántica/.venv/lib/python3.10/site-packages (from stevedore>=3.0.0->qiskit) (6.1.0)\n",
      "Requirement already satisfied: mpmath<1.4,>=1.1.0 in /Users/daniel/Library/CloudStorage/OneDrive-UniversidaddeOviedo/Asignaturas/Computación Cuántica/.venv/lib/python3.10/site-packages (from sympy>=1.3->qiskit) (1.3.0)\n",
      "\n",
      "\u001b[1m[\u001b[0m\u001b[34;49mnotice\u001b[0m\u001b[1;39;49m]\u001b[0m\u001b[39;49m A new release of pip available: \u001b[0m\u001b[31;49m22.2.1\u001b[0m\u001b[39;49m -> \u001b[0m\u001b[32;49m24.3.1\u001b[0m\n",
      "\u001b[1m[\u001b[0m\u001b[34;49mnotice\u001b[0m\u001b[1;39;49m]\u001b[0m\u001b[39;49m To update, run: \u001b[0m\u001b[32;49mpip install --upgrade pip\u001b[0m\n",
      "Requirement already satisfied: qiskit-ibm-runtime in /Users/daniel/Library/CloudStorage/OneDrive-UniversidaddeOviedo/Asignaturas/Computación Cuántica/.venv/lib/python3.10/site-packages (0.33.2)\n",
      "Requirement already satisfied: numpy>=1.13 in /Users/daniel/Library/CloudStorage/OneDrive-UniversidaddeOviedo/Asignaturas/Computación Cuántica/.venv/lib/python3.10/site-packages (from qiskit-ibm-runtime) (2.1.3)\n",
      "Requirement already satisfied: python-dateutil>=2.8.0 in /Users/daniel/Library/CloudStorage/OneDrive-UniversidaddeOviedo/Asignaturas/Computación Cuántica/.venv/lib/python3.10/site-packages (from qiskit-ibm-runtime) (2.9.0.post0)\n",
      "Requirement already satisfied: urllib3>=1.21.1 in /Users/daniel/Library/CloudStorage/OneDrive-UniversidaddeOviedo/Asignaturas/Computación Cuántica/.venv/lib/python3.10/site-packages (from qiskit-ibm-runtime) (2.2.3)\n",
      "Requirement already satisfied: requests>=2.19 in /Users/daniel/Library/CloudStorage/OneDrive-UniversidaddeOviedo/Asignaturas/Computación Cuántica/.venv/lib/python3.10/site-packages (from qiskit-ibm-runtime) (2.32.3)\n",
      "Requirement already satisfied: ibm-platform-services>=0.22.6 in /Users/daniel/Library/CloudStorage/OneDrive-UniversidaddeOviedo/Asignaturas/Computación Cuántica/.venv/lib/python3.10/site-packages (from qiskit-ibm-runtime) (0.59.0)\n",
      "Requirement already satisfied: websocket-client>=1.5.1 in /Users/daniel/Library/CloudStorage/OneDrive-UniversidaddeOviedo/Asignaturas/Computación Cuántica/.venv/lib/python3.10/site-packages (from qiskit-ibm-runtime) (1.8.0)\n",
      "Requirement already satisfied: pydantic>=2.5.0 in /Users/daniel/Library/CloudStorage/OneDrive-UniversidaddeOviedo/Asignaturas/Computación Cuántica/.venv/lib/python3.10/site-packages (from qiskit-ibm-runtime) (2.10.2)\n",
      "Requirement already satisfied: qiskit>=1.1.0 in /Users/daniel/Library/CloudStorage/OneDrive-UniversidaddeOviedo/Asignaturas/Computación Cuántica/.venv/lib/python3.10/site-packages (from qiskit-ibm-runtime) (1.2.4)\n",
      "Requirement already satisfied: requests-ntlm>=1.1.0 in /Users/daniel/Library/CloudStorage/OneDrive-UniversidaddeOviedo/Asignaturas/Computación Cuántica/.venv/lib/python3.10/site-packages (from qiskit-ibm-runtime) (1.3.0)\n",
      "Requirement already satisfied: ibm-cloud-sdk-core<4.0.0,>=3.22.0 in /Users/daniel/Library/CloudStorage/OneDrive-UniversidaddeOviedo/Asignaturas/Computación Cuántica/.venv/lib/python3.10/site-packages (from ibm-platform-services>=0.22.6->qiskit-ibm-runtime) (3.22.0)\n",
      "Requirement already satisfied: pydantic-core==2.27.1 in /Users/daniel/Library/CloudStorage/OneDrive-UniversidaddeOviedo/Asignaturas/Computación Cuántica/.venv/lib/python3.10/site-packages (from pydantic>=2.5.0->qiskit-ibm-runtime) (2.27.1)\n",
      "Requirement already satisfied: typing-extensions>=4.12.2 in /Users/daniel/Library/CloudStorage/OneDrive-UniversidaddeOviedo/Asignaturas/Computación Cuántica/.venv/lib/python3.10/site-packages (from pydantic>=2.5.0->qiskit-ibm-runtime) (4.12.2)\n",
      "Requirement already satisfied: annotated-types>=0.6.0 in /Users/daniel/Library/CloudStorage/OneDrive-UniversidaddeOviedo/Asignaturas/Computación Cuántica/.venv/lib/python3.10/site-packages (from pydantic>=2.5.0->qiskit-ibm-runtime) (0.7.0)\n",
      "Requirement already satisfied: six>=1.5 in /Users/daniel/Library/CloudStorage/OneDrive-UniversidaddeOviedo/Asignaturas/Computación Cuántica/.venv/lib/python3.10/site-packages (from python-dateutil>=2.8.0->qiskit-ibm-runtime) (1.16.0)\n",
      "Requirement already satisfied: dill>=0.3 in /Users/daniel/Library/CloudStorage/OneDrive-UniversidaddeOviedo/Asignaturas/Computación Cuántica/.venv/lib/python3.10/site-packages (from qiskit>=1.1.0->qiskit-ibm-runtime) (0.3.9)\n",
      "Requirement already satisfied: scipy>=1.5 in /Users/daniel/Library/CloudStorage/OneDrive-UniversidaddeOviedo/Asignaturas/Computación Cuántica/.venv/lib/python3.10/site-packages (from qiskit>=1.1.0->qiskit-ibm-runtime) (1.14.1)\n",
      "Requirement already satisfied: sympy>=1.3 in /Users/daniel/Library/CloudStorage/OneDrive-UniversidaddeOviedo/Asignaturas/Computación Cuántica/.venv/lib/python3.10/site-packages (from qiskit>=1.1.0->qiskit-ibm-runtime) (1.13.3)\n",
      "Requirement already satisfied: stevedore>=3.0.0 in /Users/daniel/Library/CloudStorage/OneDrive-UniversidaddeOviedo/Asignaturas/Computación Cuántica/.venv/lib/python3.10/site-packages (from qiskit>=1.1.0->qiskit-ibm-runtime) (5.4.0)\n",
      "Requirement already satisfied: rustworkx>=0.15.0 in /Users/daniel/Library/CloudStorage/OneDrive-UniversidaddeOviedo/Asignaturas/Computación Cuántica/.venv/lib/python3.10/site-packages (from qiskit>=1.1.0->qiskit-ibm-runtime) (0.15.1)\n",
      "Requirement already satisfied: symengine<0.14,>=0.11 in /Users/daniel/Library/CloudStorage/OneDrive-UniversidaddeOviedo/Asignaturas/Computación Cuántica/.venv/lib/python3.10/site-packages (from qiskit>=1.1.0->qiskit-ibm-runtime) (0.13.0)\n",
      "Requirement already satisfied: charset-normalizer<4,>=2 in /Users/daniel/Library/CloudStorage/OneDrive-UniversidaddeOviedo/Asignaturas/Computación Cuántica/.venv/lib/python3.10/site-packages (from requests>=2.19->qiskit-ibm-runtime) (3.4.0)\n",
      "Requirement already satisfied: idna<4,>=2.5 in /Users/daniel/Library/CloudStorage/OneDrive-UniversidaddeOviedo/Asignaturas/Computación Cuántica/.venv/lib/python3.10/site-packages (from requests>=2.19->qiskit-ibm-runtime) (3.10)\n",
      "Requirement already satisfied: certifi>=2017.4.17 in /Users/daniel/Library/CloudStorage/OneDrive-UniversidaddeOviedo/Asignaturas/Computación Cuántica/.venv/lib/python3.10/site-packages (from requests>=2.19->qiskit-ibm-runtime) (2024.8.30)\n",
      "Requirement already satisfied: cryptography>=1.3 in /Users/daniel/Library/CloudStorage/OneDrive-UniversidaddeOviedo/Asignaturas/Computación Cuántica/.venv/lib/python3.10/site-packages (from requests-ntlm>=1.1.0->qiskit-ibm-runtime) (44.0.0)\n",
      "Requirement already satisfied: pyspnego>=0.4.0 in /Users/daniel/Library/CloudStorage/OneDrive-UniversidaddeOviedo/Asignaturas/Computación Cuántica/.venv/lib/python3.10/site-packages (from requests-ntlm>=1.1.0->qiskit-ibm-runtime) (0.11.2)\n",
      "Requirement already satisfied: cffi>=1.12 in /Users/daniel/Library/CloudStorage/OneDrive-UniversidaddeOviedo/Asignaturas/Computación Cuántica/.venv/lib/python3.10/site-packages (from cryptography>=1.3->requests-ntlm>=1.1.0->qiskit-ibm-runtime) (1.17.1)\n",
      "Requirement already satisfied: PyJWT<3.0.0,>=2.8.0 in /Users/daniel/Library/CloudStorage/OneDrive-UniversidaddeOviedo/Asignaturas/Computación Cuántica/.venv/lib/python3.10/site-packages (from ibm-cloud-sdk-core<4.0.0,>=3.22.0->ibm-platform-services>=0.22.6->qiskit-ibm-runtime) (2.10.1)\n",
      "Requirement already satisfied: pbr>=2.0.0 in /Users/daniel/Library/CloudStorage/OneDrive-UniversidaddeOviedo/Asignaturas/Computación Cuántica/.venv/lib/python3.10/site-packages (from stevedore>=3.0.0->qiskit>=1.1.0->qiskit-ibm-runtime) (6.1.0)\n",
      "Requirement already satisfied: mpmath<1.4,>=1.1.0 in /Users/daniel/Library/CloudStorage/OneDrive-UniversidaddeOviedo/Asignaturas/Computación Cuántica/.venv/lib/python3.10/site-packages (from sympy>=1.3->qiskit>=1.1.0->qiskit-ibm-runtime) (1.3.0)\n",
      "Requirement already satisfied: pycparser in /Users/daniel/Library/CloudStorage/OneDrive-UniversidaddeOviedo/Asignaturas/Computación Cuántica/.venv/lib/python3.10/site-packages (from cffi>=1.12->cryptography>=1.3->requests-ntlm>=1.1.0->qiskit-ibm-runtime) (2.22)\n",
      "\n",
      "\u001b[1m[\u001b[0m\u001b[34;49mnotice\u001b[0m\u001b[1;39;49m]\u001b[0m\u001b[39;49m A new release of pip available: \u001b[0m\u001b[31;49m22.2.1\u001b[0m\u001b[39;49m -> \u001b[0m\u001b[32;49m24.3.1\u001b[0m\n",
      "\u001b[1m[\u001b[0m\u001b[34;49mnotice\u001b[0m\u001b[1;39;49m]\u001b[0m\u001b[39;49m To update, run: \u001b[0m\u001b[32;49mpip install --upgrade pip\u001b[0m\n",
      "Requirement already satisfied: qiskit_aer in /Users/daniel/Library/CloudStorage/OneDrive-UniversidaddeOviedo/Asignaturas/Computación Cuántica/.venv/lib/python3.10/site-packages (0.15.1)\n",
      "Requirement already satisfied: qiskit>=1.1.0 in /Users/daniel/Library/CloudStorage/OneDrive-UniversidaddeOviedo/Asignaturas/Computación Cuántica/.venv/lib/python3.10/site-packages (from qiskit_aer) (1.2.4)\n",
      "Requirement already satisfied: scipy>=1.0 in /Users/daniel/Library/CloudStorage/OneDrive-UniversidaddeOviedo/Asignaturas/Computación Cuántica/.venv/lib/python3.10/site-packages (from qiskit_aer) (1.14.1)\n",
      "Requirement already satisfied: psutil>=5 in /Users/daniel/Library/CloudStorage/OneDrive-UniversidaddeOviedo/Asignaturas/Computación Cuántica/.venv/lib/python3.10/site-packages (from qiskit_aer) (6.1.0)\n",
      "Requirement already satisfied: numpy>=1.16.3 in /Users/daniel/Library/CloudStorage/OneDrive-UniversidaddeOviedo/Asignaturas/Computación Cuántica/.venv/lib/python3.10/site-packages (from qiskit_aer) (2.1.3)\n",
      "Requirement already satisfied: python-dateutil>=2.8.0 in /Users/daniel/Library/CloudStorage/OneDrive-UniversidaddeOviedo/Asignaturas/Computación Cuántica/.venv/lib/python3.10/site-packages (from qiskit>=1.1.0->qiskit_aer) (2.9.0.post0)\n",
      "Requirement already satisfied: stevedore>=3.0.0 in /Users/daniel/Library/CloudStorage/OneDrive-UniversidaddeOviedo/Asignaturas/Computación Cuántica/.venv/lib/python3.10/site-packages (from qiskit>=1.1.0->qiskit_aer) (5.4.0)\n",
      "Requirement already satisfied: sympy>=1.3 in /Users/daniel/Library/CloudStorage/OneDrive-UniversidaddeOviedo/Asignaturas/Computación Cuántica/.venv/lib/python3.10/site-packages (from qiskit>=1.1.0->qiskit_aer) (1.13.3)\n",
      "Requirement already satisfied: rustworkx>=0.15.0 in /Users/daniel/Library/CloudStorage/OneDrive-UniversidaddeOviedo/Asignaturas/Computación Cuántica/.venv/lib/python3.10/site-packages (from qiskit>=1.1.0->qiskit_aer) (0.15.1)\n",
      "Requirement already satisfied: dill>=0.3 in /Users/daniel/Library/CloudStorage/OneDrive-UniversidaddeOviedo/Asignaturas/Computación Cuántica/.venv/lib/python3.10/site-packages (from qiskit>=1.1.0->qiskit_aer) (0.3.9)\n",
      "Requirement already satisfied: typing-extensions in /Users/daniel/Library/CloudStorage/OneDrive-UniversidaddeOviedo/Asignaturas/Computación Cuántica/.venv/lib/python3.10/site-packages (from qiskit>=1.1.0->qiskit_aer) (4.12.2)\n",
      "Requirement already satisfied: symengine<0.14,>=0.11 in /Users/daniel/Library/CloudStorage/OneDrive-UniversidaddeOviedo/Asignaturas/Computación Cuántica/.venv/lib/python3.10/site-packages (from qiskit>=1.1.0->qiskit_aer) (0.13.0)\n",
      "Requirement already satisfied: six>=1.5 in /Users/daniel/Library/CloudStorage/OneDrive-UniversidaddeOviedo/Asignaturas/Computación Cuántica/.venv/lib/python3.10/site-packages (from python-dateutil>=2.8.0->qiskit>=1.1.0->qiskit_aer) (1.16.0)\n",
      "Requirement already satisfied: pbr>=2.0.0 in /Users/daniel/Library/CloudStorage/OneDrive-UniversidaddeOviedo/Asignaturas/Computación Cuántica/.venv/lib/python3.10/site-packages (from stevedore>=3.0.0->qiskit>=1.1.0->qiskit_aer) (6.1.0)\n",
      "Requirement already satisfied: mpmath<1.4,>=1.1.0 in /Users/daniel/Library/CloudStorage/OneDrive-UniversidaddeOviedo/Asignaturas/Computación Cuántica/.venv/lib/python3.10/site-packages (from sympy>=1.3->qiskit>=1.1.0->qiskit_aer) (1.3.0)\n",
      "\n",
      "\u001b[1m[\u001b[0m\u001b[34;49mnotice\u001b[0m\u001b[1;39;49m]\u001b[0m\u001b[39;49m A new release of pip available: \u001b[0m\u001b[31;49m22.2.1\u001b[0m\u001b[39;49m -> \u001b[0m\u001b[32;49m24.3.1\u001b[0m\n",
      "\u001b[1m[\u001b[0m\u001b[34;49mnotice\u001b[0m\u001b[1;39;49m]\u001b[0m\u001b[39;49m To update, run: \u001b[0m\u001b[32;49mpip install --upgrade pip\u001b[0m\n",
      "Requirement already satisfied: pylatexenc in /Users/daniel/Library/CloudStorage/OneDrive-UniversidaddeOviedo/Asignaturas/Computación Cuántica/.venv/lib/python3.10/site-packages (2.10)\n",
      "\n",
      "\u001b[1m[\u001b[0m\u001b[34;49mnotice\u001b[0m\u001b[1;39;49m]\u001b[0m\u001b[39;49m A new release of pip available: \u001b[0m\u001b[31;49m22.2.1\u001b[0m\u001b[39;49m -> \u001b[0m\u001b[32;49m24.3.1\u001b[0m\n",
      "\u001b[1m[\u001b[0m\u001b[34;49mnotice\u001b[0m\u001b[1;39;49m]\u001b[0m\u001b[39;49m To update, run: \u001b[0m\u001b[32;49mpip install --upgrade pip\u001b[0m\n"
     ]
    }
   ],
   "source": [
    "!pip install qiskit\n",
    "!pip install qiskit-ibm-runtime\n",
    "!pip install qiskit_aer\n",
    "!pip install pylatexenc"
   ]
  },
  {
   "cell_type": "code",
   "execution_count": 26,
   "metadata": {},
   "outputs": [],
   "source": [
    "from qiskit import QuantumCircuit\n",
    "from qiskit_ibm_runtime import SamplerV2 as Sampler\n",
    "from qiskit_aer import AerSimulator\n",
    "from qiskit.quantum_info import Operator"
   ]
  },
  {
   "cell_type": "markdown",
   "metadata": {
    "id": "TcJZDY1FJPiu"
   },
   "source": [
    "Vamos a implementar el algoritmo de Deutsch (repasa las transparencias de clase si no lo recuerdas).\n",
    "\n"
   ]
  },
  {
   "cell_type": "markdown",
   "metadata": {
    "id": "LXrMBw2LJqcR"
   },
   "source": [
    "**Ejercicio 1**: Implementa el algoritmo de Deutsch con la función booleana f(0)=0, f(1)=1. La parte más importante es pensar cuál es el oráculo.\n",
    "\n",
    "Ejecuta el circuito. ¿Qué resultados obtienes? ¿Son coherentes con los que predice la teoría?"
   ]
  },
  {
   "cell_type": "code",
   "execution_count": 29,
   "metadata": {
    "id": "I2iJ9OwsgRKt"
   },
   "outputs": [
    {
     "data": {
      "image/png": "[encoded data removed]",
      "text/plain": [
       "<Figure size 538.128x284.278 with 1 Axes>"
      ]
     },
     "execution_count": 29,
     "metadata": {},
     "output_type": "execute_result"
    }
   ],
   "source": [
    "qc = QuantumCircuit(2, 1)\n",
    "qc.x(1) # Hacemos que la segunda entrada sea 1\n",
    "qc.h(0) # Puertas h\n",
    "qc.h(1)\n",
    "qc.cx(0, 1) # Oráculo\n",
    "qc.h(0) # Puerta h final\n",
    "qc.measure(0, 0)\n",
    "\n",
    "qc.draw(\"mpl\")"
   ]
  },
  {
   "cell_type": "code",
   "execution_count": 30,
   "metadata": {},
   "outputs": [
    {
     "name": "stdout",
     "output_type": "stream",
     "text": [
      "Número de ejercuciones: 10\n",
      "Estadísticas de las ejecuciones: {'1': 10}\n",
      "Resultados de las medidas: [[1]\n",
      " [1]\n",
      " [1]\n",
      " [1]\n",
      " [1]\n",
      " [1]\n",
      " [1]\n",
      " [1]\n",
      " [1]\n",
      " [1]]\n",
      "Resultados de las medidas como cadenas de texto: ['1', '1', '1', '1', '1', '1', '1', '1', '1', '1']\n"
     ]
    }
   ],
   "source": [
    "sampler = Sampler(AerSimulator(seed_simulator = 1234))\n",
    "job = sampler.run([qc], shots = 10)\n",
    "results = job.result()\n",
    "d = results[0].data.c # Acceso a los valores de las mediciones\n",
    "print(\"Número de ejercuciones:\", d.num_shots)\n",
    "print(\"Estadísticas de las ejecuciones:\", d.get_counts())\n",
    "print(\"Resultados de las medidas:\", d.array)\n",
    "print(\"Resultados de las medidas como cadenas de texto:\", d.get_bitstrings())"
   ]
  },
  {
   "cell_type": "markdown",
   "metadata": {
    "id": "UQo8jo5hKPrw"
   },
   "source": [
    "**Ejercicio 2**: Implementa el algoritmo de Deutsch con la función booleana f(0)=1, f(1)=0. La parte más importante es pensar cuál es el oráculo.\n",
    "\n",
    "Ejecuta el circuito. ¿Qué resultados obtienes? ¿Son coherentes con los que predice la teoría?"
   ]
  },
  {
   "cell_type": "code",
   "execution_count": 34,
   "metadata": {
    "id": "NsFX0QLW_lhK"
   },
   "outputs": [
    {
     "data": {
      "image/png": "[encoded data removed]",
      "text/plain": [
       "<Figure size 538.128x284.278 with 1 Axes>"
      ]
     },
     "execution_count": 34,
     "metadata": {},
     "output_type": "execute_result"
    }
   ],
   "source": [
    "qc = QuantumCircuit(2, 1)\n",
    "qc.x(1) # Hacemos que la segunda entrada sea 1\n",
    "qc.h(0) # Puertas h\n",
    "qc.h(1)\n",
    "qc.cx(0, 1) # Oraculo\n",
    "qc.h(0) # Puerta h final\n",
    "qc.measure(0, 0)\n",
    "\n",
    "qc.draw(\"mpl\")"
   ]
  },
  {
   "cell_type": "code",
   "execution_count": null,
   "metadata": {},
   "outputs": [
    {
     "name": "stdout",
     "output_type": "stream",
     "text": [
      "Número de ejercuciones: 10\n",
      "Estadísticas de las ejecuciones: {'1': 10}\n",
      "Resultados de las medidas: [[1]\n",
      " [1]\n",
      " [1]\n",
      " [1]\n",
      " [1]\n",
      " [1]\n",
      " [1]\n",
      " [1]\n",
      " [1]\n",
      " [1]]\n",
      "Resultados de las medidas como cadenas de texto: ['1', '1', '1', '1', '1', '1', '1', '1', '1', '1']\n"
     ]
    }
   ],
   "source": [
    "sampler = Sampler(AerSimulator(seed_simulator=1234))\n",
    "job = sampler.run([qc], shots=10)\n",
    "results = job.result()\n",
    "d = results[0].data.c  # Acceso a los valores de las mediciones\n",
    "print(\"Número de ejercuciones:\", d.num_shots)\n",
    "print(\"Estadísticas de las ejecuciones:\", d.get_counts())\n",
    "print(\"Resultados de las medidas:\", d.array)\n",
    "print(\"Resultados de las medidas como cadenas de texto:\", d.get_bitstrings())"
   ]
  },
  {
   "cell_type": "markdown",
   "metadata": {
    "id": "5TPQpQ_9KX4B"
   },
   "source": [
    "**Ejercicio 3**: Implementa el algoritmo de Deutsch con la función booleana f(0)=1, f(0)=1. La parte más importante es pensar cuál es el oráculo.\n",
    "\n",
    "Ejecuta el circuito. ¿Qué resultados obtienes? ¿Son coherentes con los que predice la teoría?"
   ]
  },
  {
   "cell_type": "code",
   "execution_count": null,
   "metadata": {
    "id": "2Z7redPvKWgI"
   },
   "outputs": [],
   "source": []
  },
  {
   "cell_type": "markdown",
   "metadata": {
    "id": "vbahsJtrKljB"
   },
   "source": [
    "**Ejercicio 4**: Implementa el algoritmo de Deutsch con la función booleana f(0)=0, f(1)=0. La parte más importante es pensar cuál es el oráculo.\n",
    "\n",
    "Ejecuta el circuito. ¿Qué resultados obtienes? ¿Son coherentes con los que predice la teoría?"
   ]
  },
  {
   "cell_type": "code",
   "execution_count": null,
   "metadata": {
    "id": "adXnKpOmKlB1"
   },
   "outputs": [],
   "source": []
  },
  {
   "cell_type": "markdown",
   "metadata": {
    "id": "oUiSvFdaKtTd"
   },
   "source": [
    "**BONUS:** Ejecuta los ejercicios anteriores en un ordenador cuántico real. ¿Qué resultados obtienes?"
   ]
  },
  {
   "cell_type": "code",
   "execution_count": null,
   "metadata": {
    "id": "yfGZBJ37K04f"
   },
   "outputs": [],
   "source": []
  }
 ],
 "metadata": {
  "colab": {
   "provenance": []
  },
  "kernelspec": {
   "display_name": ".venv",
   "language": "python",
   "name": "python3"
  },
  "language_info": {
   "codemirror_mode": {
    "name": "ipython",
    "version": 3
   },
   "file_extension": ".py",
   "mimetype": "text/x-python",
   "name": "python",
   "nbconvert_exporter": "python",
   "pygments_lexer": "ipython3",
   "version": "3.10.6"
  }
 },
 "nbformat": 4,
 "nbformat_minor": 0
}
