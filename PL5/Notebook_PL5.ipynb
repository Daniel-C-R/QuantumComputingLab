{
 "cells": [
  {
   "cell_type": "markdown",
   "metadata": {
    "id": "Lv5-81rqnFt4"
   },
   "source": [
    "#PL5: EL ALGORITMO DE DEUTSCH"
   ]
  },
  {
   "cell_type": "markdown",
   "metadata": {
    "id": "ibCeJ7NQnO0Q"
   },
   "source": [
    "Comenzamos instalando las librerías necesarias. En el momento de creación de este notebook, las versiones actuales son:\n",
    "\n",
    "\n",
    "*   Qiskit: 1.2.4\n",
    "*   Qiskit IBM Runtime: 0.30.0\n",
    "*   Qiskit Aer: 0.15.1\n",
    "*   Pylatexenc: 2.10\n",
    "\n"
   ]
  },
  {
   "cell_type": "code",
   "execution_count": null,
   "metadata": {
    "id": "8nmMqzVbfWCa"
   },
   "outputs": [],
   "source": [
    "# !pip install qiskit\n",
    "# !pip install qiskit-ibm-runtime\n",
    "# !pip install qiskit_aer\n",
    "# !pip install pylatexenc"
   ]
  },
  {
   "cell_type": "code",
   "execution_count": null,
   "metadata": {},
   "outputs": [],
   "source": [
    "from qiskit import QuantumCircuit\n",
    "from qiskit_ibm_runtime import SamplerV2 as Sampler\n",
    "from qiskit_aer import AerSimulator\n",
    "from qiskit.quantum_info import Operator"
   ]
  },
  {
   "cell_type": "markdown",
   "metadata": {
    "id": "TcJZDY1FJPiu"
   },
   "source": [
    "Vamos a implementar el algoritmo de Deutsch (repasa las transparencias de clase si no lo recuerdas).\n",
    "\n"
   ]
  },
  {
   "cell_type": "markdown",
   "metadata": {
    "id": "LXrMBw2LJqcR"
   },
   "source": [
    "**Ejercicio 1**: Implementa el algoritmo de Deutsch con la función booleana f(0)=0, f(1)=1. La parte más importante es pensar cuál es el oráculo.\n",
    "\n",
    "Ejecuta el circuito. ¿Qué resultados obtienes? ¿Son coherentes con los que predice la teoría?"
   ]
  },
  {
   "cell_type": "code",
   "execution_count": null,
   "metadata": {
    "id": "I2iJ9OwsgRKt"
   },
   "outputs": [],
   "source": [
    "qc = QuantumCircuit(2, 1)\n",
    "qc.x(1) # Hacemos que la segunda entrada sea 1\n",
    "qc.h(0) # Puertas h\n",
    "qc.h(1)\n",
    "qc.cx(0, 1) # Oráculo\n",
    "qc.h(0) # Puerta h final\n",
    "qc.measure(0, 0)\n",
    "\n",
    "qc.draw(\"mpl\")"
   ]
  },
  {
   "cell_type": "code",
   "execution_count": null,
   "metadata": {},
   "outputs": [],
   "source": [
    "sampler = Sampler(AerSimulator(seed_simulator = 1234))\n",
    "job = sampler.run([qc], shots = 10)\n",
    "results = job.result()\n",
    "d = results[0].data.c # Acceso a los valores de las mediciones\n",
    "print(\"Número de ejercuciones:\", d.num_shots)\n",
    "print(\"Estadísticas de las ejecuciones:\", d.get_counts())\n",
    "print(\"Resultados de las medidas:\", d.array)\n",
    "print(\"Resultados de las medidas como cadenas de texto:\", d.get_bitstrings())"
   ]
  },
  {
   "cell_type": "markdown",
   "metadata": {
    "id": "UQo8jo5hKPrw"
   },
   "source": [
    "**Ejercicio 2**: Implementa el algoritmo de Deutsch con la función booleana f(0)=1, f(1)=0. La parte más importante es pensar cuál es el oráculo.\n",
    "\n",
    "Ejecuta el circuito. ¿Qué resultados obtienes? ¿Son coherentes con los que predice la teoría?"
   ]
  },
  {
   "cell_type": "code",
   "execution_count": null,
   "metadata": {
    "id": "NsFX0QLW_lhK"
   },
   "outputs": [],
   "source": [
    "qc = QuantumCircuit(2, 1)\n",
    "qc.x(1) # Hacemos que la segunda entrada sea 1\n",
    "qc.h(0) # Puertas h\n",
    "qc.h(1)\n",
    "qc.cx(0, 1) # Oraculo\n",
    "qc.h(0) # Puerta h final\n",
    "qc.measure(0, 0)\n",
    "\n",
    "qc.draw(\"mpl\")"
   ]
  },
  {
   "cell_type": "code",
   "execution_count": null,
   "metadata": {},
   "outputs": [],
   "source": [
    "sampler = Sampler(AerSimulator(seed_simulator=1234))\n",
    "job = sampler.run([qc], shots=10)\n",
    "results = job.result()\n",
    "d = results[0].data.c  # Acceso a los valores de las mediciones\n",
    "print(\"Número de ejercuciones:\", d.num_shots)\n",
    "print(\"Estadísticas de las ejecuciones:\", d.get_counts())\n",
    "print(\"Resultados de las medidas:\", d.array)\n",
    "print(\"Resultados de las medidas como cadenas de texto:\", d.get_bitstrings())"
   ]
  },
  {
   "cell_type": "markdown",
   "metadata": {
    "id": "5TPQpQ_9KX4B"
   },
   "source": [
    "**Ejercicio 3**: Implementa el algoritmo de Deutsch con la función booleana f(0)=1, f(0)=1. La parte más importante es pensar cuál es el oráculo.\n",
    "\n",
    "Ejecuta el circuito. ¿Qué resultados obtienes? ¿Son coherentes con los que predice la teoría?"
   ]
  },
  {
   "cell_type": "code",
   "execution_count": null,
   "metadata": {
    "id": "2Z7redPvKWgI"
   },
   "outputs": [],
   "source": []
  },
  {
   "cell_type": "markdown",
   "metadata": {
    "id": "vbahsJtrKljB"
   },
   "source": [
    "**Ejercicio 4**: Implementa el algoritmo de Deutsch con la función booleana f(0)=0, f(1)=0. La parte más importante es pensar cuál es el oráculo.\n",
    "\n",
    "Ejecuta el circuito. ¿Qué resultados obtienes? ¿Son coherentes con los que predice la teoría?"
   ]
  },
  {
   "cell_type": "code",
   "execution_count": null,
   "metadata": {
    "id": "adXnKpOmKlB1"
   },
   "outputs": [],
   "source": []
  },
  {
   "cell_type": "markdown",
   "metadata": {
    "id": "oUiSvFdaKtTd"
   },
   "source": [
    "**BONUS:** Ejecuta los ejercicios anteriores en un ordenador cuántico real. ¿Qué resultados obtienes?"
   ]
  },
  {
   "cell_type": "code",
   "execution_count": null,
   "metadata": {
    "id": "yfGZBJ37K04f"
   },
   "outputs": [],
   "source": []
  }
 ],
 "metadata": {
  "colab": {
   "provenance": []
  },
  "kernelspec": {
   "display_name": "base",
   "language": "python",
   "name": "python3"
  },
  "language_info": {
   "codemirror_mode": {
    "name": "ipython",
    "version": 3
   },
   "file_extension": ".py",
   "mimetype": "text/x-python",
   "name": "python",
   "nbconvert_exporter": "python",
   "pygments_lexer": "ipython3",
   "version": "3.9.21"
  }
 },
 "nbformat": 4,
 "nbformat_minor": 0
}
