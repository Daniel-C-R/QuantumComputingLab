{
 "cells": [
  {
   "cell_type": "markdown",
   "metadata": {
    "id": "Lv5-81rqnFt4"
   },
   "source": [
    "# PL3: PRIMEROS PASOS EN QISKIT"
   ]
  },
  {
   "cell_type": "markdown",
   "metadata": {
    "id": "ibCeJ7NQnO0Q"
   },
   "source": [
    "Comenzamos instalando las librerías necesarias. En el momento de creación de este notebook, las versiones actuales son:\n",
    "\n",
    "\n",
    "*   Qiskit: 1.2.4\n",
    "*   Qiskit IBM Runtime: 0.30.0\n",
    "*   Qiskit Aer: 0.15.1\n",
    "*   Pylatexenc: 2.10\n",
    "\n"
   ]
  },
  {
   "cell_type": "code",
   "execution_count": 3,
   "metadata": {
    "id": "8nmMqzVbfWCa"
   },
   "outputs": [],
   "source": [
    "# !pip install qiskit\n",
    "# !pip install qiskit-ibm-runtime\n",
    "# !pip install qiskit_aer\n",
    "# !pip install pylatexenc"
   ]
  },
  {
   "cell_type": "markdown",
   "metadata": {
    "id": "OLMe_gben2Su"
   },
   "source": [
    "Creamos nuestro primer circuito: tendrá un qubit, una puerta H y una medición."
   ]
  },
  {
   "cell_type": "code",
   "execution_count": 4,
   "metadata": {
    "id": "I2iJ9OwsgRKt"
   },
   "outputs": [
    {
     "data": {
      "image/png": "[encoded data removed]",
      "text/plain": [
       "<Figure size 269.064x200.667 with 1 Axes>"
      ]
     },
     "execution_count": 4,
     "metadata": {},
     "output_type": "execute_result"
    }
   ],
   "source": [
    "from qiskit import QuantumCircuit\n",
    "\n",
    "qc = QuantumCircuit(1, 1)\n",
    "qc.h(0)\n",
    "qc.measure(0, 0)\n",
    "\n",
    "qc.draw(\"mpl\")"
   ]
  },
  {
   "cell_type": "markdown",
   "metadata": {
    "id": "ROsqDyTtn_gA"
   },
   "source": [
    "Utilizamos un simulador para ejecutar el circuito. Utilizamos 10 shots (ejecuciones) y una semilla (1234) para que los resultados sean reproducibles."
   ]
  },
  {
   "cell_type": "code",
   "execution_count": 7,
   "metadata": {
    "id": "1-pP4x0ggcEQ"
   },
   "outputs": [
    {
     "name": "stdout",
     "output_type": "stream",
     "text": [
      "Número de ejercuciones: 10\n",
      "Estadísticas de las ejecuciones: {'1': 7, '0': 3}\n",
      "Resultados de las medidas: [[1]\n",
      " [0]\n",
      " [1]\n",
      " [1]\n",
      " [1]\n",
      " [0]\n",
      " [1]\n",
      " [1]\n",
      " [0]\n",
      " [1]]\n",
      "Resultados de las medidas como cadenas de texto: ['1', '0', '1', '1', '1', '0', '1', '1', '0', '1']\n"
     ]
    }
   ],
   "source": [
    "from qiskit_ibm_runtime import SamplerV2 as Sampler\n",
    "from qiskit_aer import AerSimulator\n",
    "\n",
    "\n",
    "sampler = Sampler(AerSimulator(seed_simulator = 1234))\n",
    "job = sampler.run([qc], shots = 10)\n",
    "results = job.result()\n",
    "d = results[0].data.c # Acceso a los valores de las mediciones\n",
    "print(\"Número de ejercuciones:\", d.num_shots)\n",
    "print(\"Estadísticas de las ejecuciones:\", d.get_counts())\n",
    "print(\"Resultados de las medidas:\", d.array)\n",
    "print(\"Resultados de las medidas como cadenas de texto:\", d.get_bitstrings())"
   ]
  },
  {
   "cell_type": "markdown",
   "metadata": {
    "id": "cGJX9mq4ucNt"
   },
   "source": [
    "Ahora, vamos a calcular de forma exacta las amplitudes del vector de estado final. Esto solo se puede hacer un simulador, no en un ordenador cuántico real.\n",
    "\n",
    "Es necesario eliminar las mediciones finales y usar la función *Statevector*."
   ]
  },
  {
   "cell_type": "code",
   "execution_count": null,
   "metadata": {
    "id": "Mb26W3xfct7l"
   },
   "outputs": [
    {
     "name": "stdout",
     "output_type": "stream",
     "text": [
      "Amplitudes del vector de estado: Statevector([0.70710678+0.j, 0.70710678+0.j],\n",
      "            dims=(2,))\n"
     ]
    }
   ],
   "source": [
    "qc.remove_final_measurements()\n",
    "from qiskit.quantum_info import Statevector\n",
    "statevector = Statevector(qc)\n",
    "print(\"Amplitudes del vector de estado:\", statevector)"
   ]
  },
  {
   "cell_type": "markdown",
   "metadata": {
    "id": "5rYpqLfLwSBY"
   },
   "source": [
    "Ahora, vamos a calcular la matriz del circuito. De nuevo, esto solo se puede hacer en un simulador. Usaremos la función *Operator*."
   ]
  },
  {
   "cell_type": "code",
   "execution_count": null,
   "metadata": {
    "id": "nKSB63KMDUE1"
   },
   "outputs": [
    {
     "name": "stdout",
     "output_type": "stream",
     "text": [
      "Matriz del circuito: [[ 0.70710678+0.j  0.70710678+0.j]\n",
      " [ 0.70710678+0.j -0.70710678+0.j]]\n"
     ]
    }
   ],
   "source": [
    "from qiskit.quantum_info import Operator\n",
    "result = Operator(qc).data\n",
    "print(\"Matriz del circuito:\", result)"
   ]
  },
  {
   "cell_type": "markdown",
   "metadata": {
    "id": "BXYM1WC7x6V5"
   },
   "source": [
    "## EJERCICIOS"
   ]
  },
  {
   "cell_type": "markdown",
   "metadata": {
    "id": "ZN6zgU5-yabY"
   },
   "source": [
    "1.- Crea y ejecuta un circuito que aplique una puerta *X* y una medición. Ejecútalo 10 veces. ¿Qué resultados salen? ¿Por qué?\n",
    "\n",
    "\n",
    "\n"
   ]
  },
  {
   "cell_type": "code",
   "execution_count": null,
   "metadata": {
    "id": "5mT6Bw6Cx-Aq"
   },
   "outputs": [
    {
     "data": {
      "image/png": "[encoded data removed]",
      "text/plain": [
       "<Figure size 269.064x200.667 with 1 Axes>"
      ]
     },
     "execution_count": 6,
     "metadata": {},
     "output_type": "execute_result"
    }
   ],
   "source": [
    "qc = QuantumCircuit(1, 1)\n",
    "qc.x(0)\n",
    "qc.measure(0, 0)\n",
    "\n",
    "qc.draw(\"mpl\")"
   ]
  },
  {
   "cell_type": "code",
   "execution_count": null,
   "metadata": {},
   "outputs": [
    {
     "name": "stdout",
     "output_type": "stream",
     "text": [
      "Número de ejercuciones: 10\n",
      "Estadísticas de las ejecuciones: {'1': 10}\n",
      "Resultados de las medidas: [[1]\n",
      " [1]\n",
      " [1]\n",
      " [1]\n",
      " [1]\n",
      " [1]\n",
      " [1]\n",
      " [1]\n",
      " [1]\n",
      " [1]]\n",
      "Resultados de las medidas como cadenas de texto: ['1', '1', '1', '1', '1', '1', '1', '1', '1', '1']\n"
     ]
    }
   ],
   "source": [
    "sampler = Sampler(AerSimulator(seed_simulator = 1234))\n",
    "job = sampler.run([qc], shots = 10)\n",
    "results = job.result()\n",
    "d = results[0].data.c # Acceso a los valores de las mediciones\n",
    "print(\"Número de ejercuciones:\", d.num_shots)\n",
    "print(\"Estadísticas de las ejecuciones:\", d.get_counts())\n",
    "print(\"Resultados de las medidas:\", d.array)\n",
    "print(\"Resultados de las medidas como cadenas de texto:\", d.get_bitstrings())"
   ]
  },
  {
   "cell_type": "markdown",
   "metadata": {
    "id": "P0ZQWsoCyn3y"
   },
   "source": [
    "2.- Crea y ejecuta un circuito que aplique una puerta *Z* y una medición. Ejecútalo 10 veces. ¿Qué resultados salen? ¿Por qué?\n",
    "\n",
    "\n",
    "\n"
   ]
  },
  {
   "cell_type": "code",
   "execution_count": null,
   "metadata": {},
   "outputs": [
    {
     "data": {
      "image/png": "[encoded data removed]",
      "text/plain": [
       "<Figure size 269.064x200.667 with 1 Axes>"
      ]
     },
     "execution_count": 8,
     "metadata": {},
     "output_type": "execute_result"
    }
   ],
   "source": [
    "qc = QuantumCircuit(1, 1)\n",
    "qc.z(0)\n",
    "qc.measure(0, 0)\n",
    "\n",
    "qc.draw(\"mpl\")"
   ]
  },
  {
   "cell_type": "code",
   "execution_count": null,
   "metadata": {},
   "outputs": [
    {
     "name": "stdout",
     "output_type": "stream",
     "text": [
      "Número de ejercuciones: 10\n",
      "Estadísticas de las ejecuciones: {'0': 10}\n",
      "Resultados de las medidas: [[0]\n",
      " [0]\n",
      " [0]\n",
      " [0]\n",
      " [0]\n",
      " [0]\n",
      " [0]\n",
      " [0]\n",
      " [0]\n",
      " [0]]\n",
      "Resultados de las medidas como cadenas de texto: ['0', '0', '0', '0', '0', '0', '0', '0', '0', '0']\n"
     ]
    }
   ],
   "source": [
    "sampler = Sampler(AerSimulator(seed_simulator = 1234))\n",
    "job = sampler.run([qc], shots = 10)\n",
    "results = job.result()\n",
    "d = results[0].data.c # Acceso a los valores de las mediciones\n",
    "print(\"Número de ejercuciones:\", d.num_shots)\n",
    "print(\"Estadísticas de las ejecuciones:\", d.get_counts())\n",
    "print(\"Resultados de las medidas:\", d.array)\n",
    "print(\"Resultados de las medidas como cadenas de texto:\", d.get_bitstrings())"
   ]
  },
  {
   "cell_type": "markdown",
   "metadata": {
    "id": "hi3ZfydUywJo"
   },
   "source": [
    "3.- Crea y ejecuta un circuito que aplique una puerta *X*,  luego una puerta *Z* y, finalmente, una medición. Ejecútalo 10 veces. ¿Qué resultados salen? ¿Por qué?\n",
    "\n",
    "Obtén el vector de estado. ¿Es coherente con los resultados de medición que has obtenido?"
   ]
  },
  {
   "cell_type": "code",
   "execution_count": null,
   "metadata": {
    "id": "B-gF7O7BzdOd"
   },
   "outputs": [
    {
     "data": {
      "image/png": "[encoded data removed]",
      "text/plain": [
       "<Figure size 352.675x200.667 with 1 Axes>"
      ]
     },
     "execution_count": 10,
     "metadata": {},
     "output_type": "execute_result"
    }
   ],
   "source": [
    "qc = QuantumCircuit(1, 1)\n",
    "qc.x(0)\n",
    "qc.z(0)\n",
    "qc.measure(0, 0)\n",
    "\n",
    "qc.draw(\"mpl\")"
   ]
  },
  {
   "cell_type": "code",
   "execution_count": null,
   "metadata": {},
   "outputs": [
    {
     "name": "stdout",
     "output_type": "stream",
     "text": [
      "Número de ejercuciones: 10\n",
      "Estadísticas de las ejecuciones: {'1': 10}\n",
      "Resultados de las medidas: [[1]\n",
      " [1]\n",
      " [1]\n",
      " [1]\n",
      " [1]\n",
      " [1]\n",
      " [1]\n",
      " [1]\n",
      " [1]\n",
      " [1]]\n",
      "Resultados de las medidas como cadenas de texto: ['1', '1', '1', '1', '1', '1', '1', '1', '1', '1']\n"
     ]
    }
   ],
   "source": [
    "sampler = Sampler(AerSimulator(seed_simulator = 1234))\n",
    "job = sampler.run([qc], shots = 10)\n",
    "results = job.result()\n",
    "d = results[0].data.c # Acceso a los valores de las mediciones\n",
    "print(\"Número de ejercuciones:\", d.num_shots)\n",
    "print(\"Estadísticas de las ejecuciones:\", d.get_counts())\n",
    "print(\"Resultados de las medidas:\", d.array)\n",
    "print(\"Resultados de las medidas como cadenas de texto:\", d.get_bitstrings())"
   ]
  },
  {
   "cell_type": "markdown",
   "metadata": {
    "id": "gIyAZOLfze0s"
   },
   "source": [
    "4.- Usando *Operator*, comprueba las siguientes equivalencias de puertas:\n",
    "\n",
    "\n",
    "*   $X^2 = I$ `<- Aquí había una errata`\n",
    "*   $HZH = X$\n",
    "*   $S^4 = I$\n",
    "*   $T^8 = I$\n",
    "\n"
   ]
  },
  {
   "cell_type": "code",
   "execution_count": null,
   "metadata": {
    "id": "sH6SS3t90HVF"
   },
   "outputs": [
    {
     "name": "stdout",
     "output_type": "stream",
     "text": [
      "Matriz del circuito: [[1.+0.j 0.+0.j]\n",
      " [0.+0.j 1.+0.j]]\n"
     ]
    }
   ],
   "source": [
    "qc = QuantumCircuit(1, 1)\n",
    "qc.x(0)\n",
    "qc.x(0)\n",
    "qc.measure(0, 0)\n",
    "\n",
    "qc.draw(\"mpl\")\n",
    "\n",
    "qc.remove_final_measurements()\n",
    "result = Operator(qc).data\n",
    "print(\"Matriz del circuito:\", result)"
   ]
  },
  {
   "cell_type": "code",
   "execution_count": null,
   "metadata": {},
   "outputs": [
    {
     "name": "stdout",
     "output_type": "stream",
     "text": [
      "Matriz del circuito: [[0.+0.j 1.+0.j]\n",
      " [1.+0.j 0.+0.j]]\n"
     ]
    }
   ],
   "source": [
    "qc = QuantumCircuit(1, 1)\n",
    "qc.h(0)\n",
    "qc.z(0)\n",
    "qc.h(0)\n",
    "qc.measure(0, 0)\n",
    "\n",
    "qc.draw(\"mpl\")\n",
    "\n",
    "qc.remove_final_measurements()\n",
    "result = Operator(qc).data\n",
    "print(\"Matriz del circuito:\", result)"
   ]
  },
  {
   "cell_type": "code",
   "execution_count": null,
   "metadata": {},
   "outputs": [
    {
     "name": "stdout",
     "output_type": "stream",
     "text": [
      "Matriz del circuito: [[1.+0.j 0.+0.j]\n",
      " [0.+0.j 1.+0.j]]\n"
     ]
    }
   ],
   "source": [
    "qc = QuantumCircuit(1, 1)\n",
    "for _ in range(4):\n",
    "    qc.s(0)\n",
    "qc.measure(0, 0)\n",
    "\n",
    "qc.draw(\"mpl\")\n",
    "\n",
    "qc.remove_final_measurements()\n",
    "result = Operator(qc).data\n",
    "print(\"Matriz del circuito:\", result)"
   ]
  },
  {
   "cell_type": "code",
   "execution_count": null,
   "metadata": {},
   "outputs": [
    {
     "name": "stdout",
     "output_type": "stream",
     "text": [
      "Matriz del circuito: [[1.+0.00000000e+00j 0.+0.00000000e+00j]\n",
      " [0.+0.00000000e+00j 1.+8.90187929e-18j]]\n"
     ]
    }
   ],
   "source": [
    "qc = QuantumCircuit(1, 1)\n",
    "for _ in range(8):\n",
    "    qc.t(0)\n",
    "qc.measure(0, 0)\n",
    "\n",
    "qc.draw(\"mpl\")\n",
    "\n",
    "qc.remove_final_measurements()\n",
    "result = Operator(qc).data\n",
    "print(\"Matriz del circuito:\", result)"
   ]
  },
  {
   "cell_type": "markdown",
   "metadata": {
    "id": "uQwGykHB2nd2"
   },
   "source": [
    "## BONUS: EJECUCIÓN EN UN ORDENADOR CUÁNTICO REAL"
   ]
  },
  {
   "cell_type": "markdown",
   "metadata": {
    "id": "EK4RR6MN258q"
   },
   "source": [
    "Para ejecutar en un ordenador cuántico real, necesitamos acceder a los servicios de IBM Quantum. Debes copiar tu token de https://quantum.ibm.com/ y pegarlo dentro de las comillas de la asignación de la variable *mytoken*."
   ]
  },
  {
   "cell_type": "code",
   "execution_count": null,
   "metadata": {
    "id": "A353vn4w20PP"
   },
   "outputs": [
    {
     "ename": "AccountNotFoundError",
     "evalue": "'Unable to find account.'",
     "output_type": "error",
     "traceback": [
      "\u001b[0;31m---------------------------------------------------------------------------\u001b[0m",
      "\u001b[0;31mAccountNotFoundError\u001b[0m                      Traceback (most recent call last)",
      "Cell \u001b[0;32mIn[14], line 6\u001b[0m\n\u001b[1;32m      3\u001b[0m \u001b[38;5;28;01mfrom\u001b[39;00m \u001b[38;5;21;01mqiskit_ibm_runtime\u001b[39;00m \u001b[38;5;28;01mimport\u001b[39;00m QiskitRuntimeService\n\u001b[1;32m      4\u001b[0m \u001b[38;5;28;01mfrom\u001b[39;00m \u001b[38;5;21;01mqiskit\u001b[39;00m\u001b[38;5;21;01m.\u001b[39;00m\u001b[38;5;21;01mtranspiler\u001b[39;00m\u001b[38;5;21;01m.\u001b[39;00m\u001b[38;5;21;01mpreset_passmanagers\u001b[39;00m \u001b[38;5;28;01mimport\u001b[39;00m generate_preset_pass_manager\n\u001b[0;32m----> 6\u001b[0m service \u001b[38;5;241m=\u001b[39m \u001b[43mQiskitRuntimeService\u001b[49m\u001b[43m(\u001b[49m\u001b[43mchannel\u001b[49m\u001b[38;5;241;43m=\u001b[39;49m\u001b[38;5;124;43m\"\u001b[39;49m\u001b[38;5;124;43mibm_quantum\u001b[39;49m\u001b[38;5;124;43m\"\u001b[39;49m\u001b[43m,\u001b[49m\u001b[43m \u001b[49m\u001b[43mtoken\u001b[49m\u001b[38;5;241;43m=\u001b[39;49m\u001b[43mmytoken\u001b[49m\u001b[43m)\u001b[49m\n",
      "File \u001b[0;32m~/Library/CloudStorage/OneDrive-UniversidaddeOviedo/Asignaturas/Computación Cuántica/cc/lib/python3.10/site-packages/qiskit_ibm_runtime/qiskit_runtime_service.py:128\u001b[0m, in \u001b[0;36mQiskitRuntimeService.__init__\u001b[0;34m(self, channel, token, url, filename, name, instance, proxies, verify, private_endpoint, url_resolver)\u001b[0m\n\u001b[1;32m     81\u001b[0m \u001b[38;5;250m\u001b[39m\u001b[38;5;124;03m\"\"\"QiskitRuntimeService constructor\u001b[39;00m\n\u001b[1;32m     82\u001b[0m \n\u001b[1;32m     83\u001b[0m \u001b[38;5;124;03mAn account is selected in the following order:\u001b[39;00m\n\u001b[0;32m   (...)\u001b[0m\n\u001b[1;32m    124\u001b[0m \u001b[38;5;124;03m    IBMInputValueError: If an input is invalid.\u001b[39;00m\n\u001b[1;32m    125\u001b[0m \u001b[38;5;124;03m\"\"\"\u001b[39;00m\n\u001b[1;32m    126\u001b[0m \u001b[38;5;28msuper\u001b[39m()\u001b[38;5;241m.\u001b[39m\u001b[38;5;21m__init__\u001b[39m()\n\u001b[0;32m--> 128\u001b[0m \u001b[38;5;28mself\u001b[39m\u001b[38;5;241m.\u001b[39m_account \u001b[38;5;241m=\u001b[39m \u001b[38;5;28;43mself\u001b[39;49m\u001b[38;5;241;43m.\u001b[39;49m\u001b[43m_discover_account\u001b[49m\u001b[43m(\u001b[49m\n\u001b[1;32m    129\u001b[0m \u001b[43m    \u001b[49m\u001b[43mtoken\u001b[49m\u001b[38;5;241;43m=\u001b[39;49m\u001b[43mtoken\u001b[49m\u001b[43m,\u001b[49m\n\u001b[1;32m    130\u001b[0m \u001b[43m    \u001b[49m\u001b[43murl\u001b[49m\u001b[38;5;241;43m=\u001b[39;49m\u001b[43murl\u001b[49m\u001b[43m,\u001b[49m\n\u001b[1;32m    131\u001b[0m \u001b[43m    \u001b[49m\u001b[43minstance\u001b[49m\u001b[38;5;241;43m=\u001b[39;49m\u001b[43minstance\u001b[49m\u001b[43m,\u001b[49m\n\u001b[1;32m    132\u001b[0m \u001b[43m    \u001b[49m\u001b[43mchannel\u001b[49m\u001b[38;5;241;43m=\u001b[39;49m\u001b[43mchannel\u001b[49m\u001b[43m,\u001b[49m\n\u001b[1;32m    133\u001b[0m \u001b[43m    \u001b[49m\u001b[43mfilename\u001b[49m\u001b[38;5;241;43m=\u001b[39;49m\u001b[43mfilename\u001b[49m\u001b[43m,\u001b[49m\n\u001b[1;32m    134\u001b[0m \u001b[43m    \u001b[49m\u001b[43mname\u001b[49m\u001b[38;5;241;43m=\u001b[39;49m\u001b[43mname\u001b[49m\u001b[43m,\u001b[49m\n\u001b[1;32m    135\u001b[0m \u001b[43m    \u001b[49m\u001b[43mproxies\u001b[49m\u001b[38;5;241;43m=\u001b[39;49m\u001b[43mProxyConfiguration\u001b[49m\u001b[43m(\u001b[49m\u001b[38;5;241;43m*\u001b[39;49m\u001b[38;5;241;43m*\u001b[39;49m\u001b[43mproxies\u001b[49m\u001b[43m)\u001b[49m\u001b[43m \u001b[49m\u001b[38;5;28;43;01mif\u001b[39;49;00m\u001b[43m \u001b[49m\u001b[43mproxies\u001b[49m\u001b[43m \u001b[49m\u001b[38;5;28;43;01melse\u001b[39;49;00m\u001b[43m \u001b[49m\u001b[38;5;28;43;01mNone\u001b[39;49;00m\u001b[43m,\u001b[49m\n\u001b[1;32m    136\u001b[0m \u001b[43m    \u001b[49m\u001b[43mverify\u001b[49m\u001b[38;5;241;43m=\u001b[39;49m\u001b[43mverify\u001b[49m\u001b[43m,\u001b[49m\n\u001b[1;32m    137\u001b[0m \u001b[43m\u001b[49m\u001b[43m)\u001b[49m\n\u001b[1;32m    139\u001b[0m \u001b[38;5;28;01mif\u001b[39;00m private_endpoint \u001b[38;5;129;01mis\u001b[39;00m \u001b[38;5;129;01mnot\u001b[39;00m \u001b[38;5;28;01mNone\u001b[39;00m:\n\u001b[1;32m    140\u001b[0m     \u001b[38;5;28mself\u001b[39m\u001b[38;5;241m.\u001b[39m_account\u001b[38;5;241m.\u001b[39mprivate_endpoint \u001b[38;5;241m=\u001b[39m private_endpoint\n",
      "File \u001b[0;32m~/Library/CloudStorage/OneDrive-UniversidaddeOviedo/Asignaturas/Computación Cuántica/cc/lib/python3.10/site-packages/qiskit_ibm_runtime/qiskit_runtime_service.py:230\u001b[0m, in \u001b[0;36mQiskitRuntimeService._discover_account\u001b[0;34m(self, token, url, instance, channel, filename, name, proxies, verify)\u001b[0m\n\u001b[1;32m    228\u001b[0m         \u001b[38;5;28;01mif\u001b[39;00m url:\n\u001b[1;32m    229\u001b[0m             logger\u001b[38;5;241m.\u001b[39mwarning(\u001b[38;5;124m\"\u001b[39m\u001b[38;5;124mLoading default \u001b[39m\u001b[38;5;132;01m%s\u001b[39;00m\u001b[38;5;124m account. Input \u001b[39m\u001b[38;5;124m'\u001b[39m\u001b[38;5;124murl\u001b[39m\u001b[38;5;124m'\u001b[39m\u001b[38;5;124m is ignored.\u001b[39m\u001b[38;5;124m\"\u001b[39m, channel)\n\u001b[0;32m--> 230\u001b[0m         account \u001b[38;5;241m=\u001b[39m \u001b[43mAccountManager\u001b[49m\u001b[38;5;241;43m.\u001b[39;49m\u001b[43mget\u001b[49m\u001b[43m(\u001b[49m\u001b[43mfilename\u001b[49m\u001b[38;5;241;43m=\u001b[39;49m\u001b[43mfilename\u001b[49m\u001b[43m,\u001b[49m\u001b[43m \u001b[49m\u001b[43mname\u001b[49m\u001b[38;5;241;43m=\u001b[39;49m\u001b[43mname\u001b[49m\u001b[43m,\u001b[49m\u001b[43m \u001b[49m\u001b[43mchannel\u001b[49m\u001b[38;5;241;43m=\u001b[39;49m\u001b[43mchannel\u001b[49m\u001b[43m)\u001b[49m\n\u001b[1;32m    231\u001b[0m \u001b[38;5;28;01melif\u001b[39;00m \u001b[38;5;28many\u001b[39m([token, url]):\n\u001b[1;32m    232\u001b[0m     \u001b[38;5;66;03m# Let's not infer based on these attributes as they may change in the future.\u001b[39;00m\n\u001b[1;32m    233\u001b[0m     \u001b[38;5;28;01mraise\u001b[39;00m \u001b[38;5;167;01mValueError\u001b[39;00m(\n\u001b[1;32m    234\u001b[0m         \u001b[38;5;124m\"\u001b[39m\u001b[38;5;124m'\u001b[39m\u001b[38;5;124mchannel\u001b[39m\u001b[38;5;124m'\u001b[39m\u001b[38;5;124m is required if \u001b[39m\u001b[38;5;124m'\u001b[39m\u001b[38;5;124mtoken\u001b[39m\u001b[38;5;124m'\u001b[39m\u001b[38;5;124m, or \u001b[39m\u001b[38;5;124m'\u001b[39m\u001b[38;5;124murl\u001b[39m\u001b[38;5;124m'\u001b[39m\u001b[38;5;124m is specified but \u001b[39m\u001b[38;5;124m'\u001b[39m\u001b[38;5;124mname\u001b[39m\u001b[38;5;124m'\u001b[39m\u001b[38;5;124m is not.\u001b[39m\u001b[38;5;124m\"\u001b[39m\n\u001b[1;32m    235\u001b[0m     )\n",
      "File \u001b[0;32m~/Library/CloudStorage/OneDrive-UniversidaddeOviedo/Asignaturas/Computación Cuántica/cc/lib/python3.10/site-packages/qiskit_ibm_runtime/accounts/management.py:195\u001b[0m, in \u001b[0;36mAccountManager.get\u001b[0;34m(cls, filename, name, channel)\u001b[0m\n\u001b[1;32m    192\u001b[0m     \u001b[38;5;28;01mif\u001b[39;00m account_name \u001b[38;5;129;01min\u001b[39;00m all_config:\n\u001b[1;32m    193\u001b[0m         \u001b[38;5;28;01mreturn\u001b[39;00m Account\u001b[38;5;241m.\u001b[39mfrom_saved_format(all_config[account_name])\n\u001b[0;32m--> 195\u001b[0m \u001b[38;5;28;01mraise\u001b[39;00m AccountNotFoundError(\u001b[38;5;124m\"\u001b[39m\u001b[38;5;124mUnable to find account.\u001b[39m\u001b[38;5;124m\"\u001b[39m)\n",
      "\u001b[0;31mAccountNotFoundError\u001b[0m: 'Unable to find account.'"
     ]
    }
   ],
   "source": [
    "mytoken = \"\"\n",
    "\n",
    "from qiskit_ibm_runtime import QiskitRuntimeService\n",
    "from qiskit.transpiler.preset_passmanagers import generate_preset_pass_manager\n",
    "\n",
    "service = QiskitRuntimeService(channel=\"ibm_quantum\", token=mytoken)"
   ]
  },
  {
   "cell_type": "markdown",
   "metadata": {
    "id": "fv4nmV1D3d_x"
   },
   "source": [
    "Ahora, necesitamos hacer dos cosas más:\n",
    "\n",
    "* Seleccionar un ordenador cuántico. Elegiremos el menos ocupado con el método *least_busy*.\n",
    "* Transpilar el circuito para poder ejecutarlo en el ordenador que hemos elegido"
   ]
  },
  {
   "cell_type": "code",
   "execution_count": null,
   "metadata": {
    "id": "Wv_H1Uh53hel"
   },
   "outputs": [],
   "source": [
    "backend = service.least_busy(simulator=False, operational=True)\n",
    "print(\"El ordenador seleccionado ha sido:\", backend)\n",
    "\n",
    "qc2 = QuantumCircuit(1,1)\n",
    "qc2.h(0)\n",
    "qc2.measure(0,0)\n",
    "\n",
    "pm = generate_preset_pass_manager(backend=backend, optimization_level=1)\n",
    "isa_circuit = pm.run(qc2)\n",
    "\n",
    "isa_circuit.draw('mpl', idle_wires=False)"
   ]
  },
  {
   "cell_type": "markdown",
   "metadata": {
    "id": "Oq0nF64O37Ck"
   },
   "source": [
    "Ahora, ya podemos ejecutarlo como hacíamos en el simulador."
   ]
  },
  {
   "cell_type": "code",
   "execution_count": null,
   "metadata": {
    "id": "KdLeg6ok37ex"
   },
   "outputs": [],
   "source": [
    "sampler = Sampler(backend)\n",
    "job = sampler.run([isa_circuit], shots = 10)\n",
    "results = job.result()\n",
    "d = results[0].data.c # Acceso a los valores de las mediciones\n",
    "print(\"Número de ejercuciones:\", d.num_shots)\n",
    "print(\"Estadísticas de las ejecuciones:\", d.get_counts())\n",
    "print(\"Resultados de las medidas:\", d.array)\n",
    "print(\"Resultados de las medidas como cadenas de texto:\", d.get_bitstrings())"
   ]
  }
 ],
 "metadata": {
  "colab": {
   "provenance": []
  },
  "kernelspec": {
   "display_name": "cc",
   "language": "python",
   "name": "python3"
  },
  "language_info": {
   "codemirror_mode": {
    "name": "ipython",
    "version": 3
   },
   "file_extension": ".py",
   "mimetype": "text/x-python",
   "name": "python",
   "nbconvert_exporter": "python",
   "pygments_lexer": "ipython3",
   "version": "3.10.6"
  }
 },
 "nbformat": 4,
 "nbformat_minor": 0
}
