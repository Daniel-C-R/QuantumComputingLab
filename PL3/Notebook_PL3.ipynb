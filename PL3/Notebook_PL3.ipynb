{
 "cells": [
  {
   "cell_type": "markdown",
   "metadata": {
    "id": "Lv5-81rqnFt4"
   },
   "source": [
    "# PL3: PRIMEROS PASOS EN QISKIT"
   ]
  },
  {
   "cell_type": "markdown",
   "metadata": {
    "id": "ibCeJ7NQnO0Q"
   },
   "source": [
    "Comenzamos instalando las librerías necesarias. En el momento de creación de este notebook, las versiones actuales son:\n",
    "\n",
    "\n",
    "*   Qiskit: 1.2.4\n",
    "*   Qiskit IBM Runtime: 0.30.0\n",
    "*   Qiskit Aer: 0.15.1\n",
    "*   Pylatexenc: 2.10\n",
    "\n"
   ]
  },
  {
   "cell_type": "code",
   "execution_count": null,
   "metadata": {
    "id": "8nmMqzVbfWCa"
   },
   "outputs": [],
   "source": [
    "# !pip install qiskit\n",
    "# !pip install qiskit-ibm-runtime\n",
    "# !pip install qiskit_aer\n",
    "# !pip install pylatexenc"
   ]
  },
  {
   "cell_type": "markdown",
   "metadata": {
    "id": "OLMe_gben2Su"
   },
   "source": [
    "Creamos nuestro primer circuito: tendrá un qubit, una puerta H y una medición."
   ]
  },
  {
   "cell_type": "code",
   "execution_count": null,
   "metadata": {
    "id": "I2iJ9OwsgRKt"
   },
   "outputs": [],
   "source": [
    "from qiskit import QuantumCircuit\n",
    "\n",
    "qc = QuantumCircuit(1, 1)\n",
    "qc.h(0)\n",
    "qc.measure(0, 0)\n",
    "\n",
    "qc.draw(\"mpl\")"
   ]
  },
  {
   "cell_type": "markdown",
   "metadata": {
    "id": "ROsqDyTtn_gA"
   },
   "source": [
    "Utilizamos un simulador para ejecutar el circuito. Utilizamos 10 shots (ejecuciones) y una semilla (1234) para que los resultados sean reproducibles."
   ]
  },
  {
   "cell_type": "code",
   "execution_count": null,
   "metadata": {
    "id": "1-pP4x0ggcEQ"
   },
   "outputs": [],
   "source": [
    "from qiskit_ibm_runtime import SamplerV2 as Sampler\n",
    "from qiskit_aer import AerSimulator\n",
    "\n",
    "\n",
    "sampler = Sampler(AerSimulator(seed_simulator = 1234))\n",
    "job = sampler.run([qc], shots = 10)\n",
    "results = job.result()\n",
    "d = results[0].data.c # Acceso a los valores de las mediciones\n",
    "print(\"Número de ejercuciones:\", d.num_shots)\n",
    "print(\"Estadísticas de las ejecuciones:\", d.get_counts())\n",
    "print(\"Resultados de las medidas:\", d.array)\n",
    "print(\"Resultados de las medidas como cadenas de texto:\", d.get_bitstrings())"
   ]
  },
  {
   "cell_type": "markdown",
   "metadata": {
    "id": "cGJX9mq4ucNt"
   },
   "source": [
    "Ahora, vamos a calcular de forma exacta las amplitudes del vector de estado final. Esto solo se puede hacer un simulador, no en un ordenador cuántico real.\n",
    "\n",
    "Es necesario eliminar las mediciones finales y usar la función *Statevector*."
   ]
  },
  {
   "cell_type": "code",
   "execution_count": null,
   "metadata": {
    "id": "Mb26W3xfct7l"
   },
   "outputs": [],
   "source": [
    "qc.remove_final_measurements()\n",
    "from qiskit.quantum_info import Statevector\n",
    "statevector = Statevector(qc)\n",
    "print(\"Amplitudes del vector de estado:\", statevector)"
   ]
  },
  {
   "cell_type": "markdown",
   "metadata": {
    "id": "5rYpqLfLwSBY"
   },
   "source": [
    "Ahora, vamos a calcular la matriz del circuito. De nuevo, esto solo se puede hacer en un simulador. Usaremos la función *Operator*."
   ]
  },
  {
   "cell_type": "code",
   "execution_count": null,
   "metadata": {
    "id": "nKSB63KMDUE1"
   },
   "outputs": [],
   "source": [
    "from qiskit.quantum_info import Operator\n",
    "result = Operator(qc).data\n",
    "print(\"Matriz del circuito:\", result)"
   ]
  },
  {
   "cell_type": "markdown",
   "metadata": {
    "id": "BXYM1WC7x6V5"
   },
   "source": [
    "## EJERCICIOS"
   ]
  },
  {
   "cell_type": "markdown",
   "metadata": {
    "id": "ZN6zgU5-yabY"
   },
   "source": [
    "1.- Crea y ejecuta un circuito que aplique una puerta *X* y una medición. Ejecútalo 10 veces. ¿Qué resultados salen? ¿Por qué?\n",
    "\n",
    "\n",
    "\n"
   ]
  },
  {
   "cell_type": "code",
   "execution_count": null,
   "metadata": {
    "id": "5mT6Bw6Cx-Aq"
   },
   "outputs": [],
   "source": [
    "qc = QuantumCircuit(1, 1)\n",
    "qc.x(0)\n",
    "qc.measure(0, 0)\n",
    "\n",
    "qc.draw(\"mpl\")"
   ]
  },
  {
   "cell_type": "code",
   "execution_count": null,
   "metadata": {},
   "outputs": [],
   "source": [
    "sampler = Sampler(AerSimulator(seed_simulator = 1234))\n",
    "job = sampler.run([qc], shots = 10)\n",
    "results = job.result()\n",
    "d = results[0].data.c # Acceso a los valores de las mediciones\n",
    "print(\"Número de ejercuciones:\", d.num_shots)\n",
    "print(\"Estadísticas de las ejecuciones:\", d.get_counts())\n",
    "print(\"Resultados de las medidas:\", d.array)\n",
    "print(\"Resultados de las medidas como cadenas de texto:\", d.get_bitstrings())"
   ]
  },
  {
   "cell_type": "markdown",
   "metadata": {
    "id": "P0ZQWsoCyn3y"
   },
   "source": [
    "2.- Crea y ejecuta un circuito que aplique una puerta *Z* y una medición. Ejecútalo 10 veces. ¿Qué resultados salen? ¿Por qué?\n",
    "\n",
    "\n",
    "\n"
   ]
  },
  {
   "cell_type": "code",
   "execution_count": null,
   "metadata": {},
   "outputs": [],
   "source": [
    "qc = QuantumCircuit(1, 1)\n",
    "qc.z(0)\n",
    "qc.measure(0, 0)\n",
    "\n",
    "qc.draw(\"mpl\")"
   ]
  },
  {
   "cell_type": "code",
   "execution_count": null,
   "metadata": {},
   "outputs": [],
   "source": [
    "sampler = Sampler(AerSimulator(seed_simulator = 1234))\n",
    "job = sampler.run([qc], shots = 10)\n",
    "results = job.result()\n",
    "d = results[0].data.c # Acceso a los valores de las mediciones\n",
    "print(\"Número de ejercuciones:\", d.num_shots)\n",
    "print(\"Estadísticas de las ejecuciones:\", d.get_counts())\n",
    "print(\"Resultados de las medidas:\", d.array)\n",
    "print(\"Resultados de las medidas como cadenas de texto:\", d.get_bitstrings())"
   ]
  },
  {
   "cell_type": "markdown",
   "metadata": {
    "id": "hi3ZfydUywJo"
   },
   "source": [
    "3.- Crea y ejecuta un circuito que aplique una puerta *X*,  luego una puerta *Z* y, finalmente, una medición. Ejecútalo 10 veces. ¿Qué resultados salen? ¿Por qué?\n",
    "\n",
    "Obtén el vector de estado. ¿Es coherente con los resultados de medición que has obtenido?"
   ]
  },
  {
   "cell_type": "code",
   "execution_count": null,
   "metadata": {
    "id": "B-gF7O7BzdOd"
   },
   "outputs": [],
   "source": [
    "qc = QuantumCircuit(1, 1)\n",
    "qc.x(0)\n",
    "qc.z(0)\n",
    "qc.measure(0, 0)\n",
    "\n",
    "qc.draw(\"mpl\")"
   ]
  },
  {
   "cell_type": "code",
   "execution_count": null,
   "metadata": {},
   "outputs": [],
   "source": [
    "sampler = Sampler(AerSimulator(seed_simulator = 1234))\n",
    "job = sampler.run([qc], shots = 10)\n",
    "results = job.result()\n",
    "d = results[0].data.c # Acceso a los valores de las mediciones\n",
    "print(\"Número de ejercuciones:\", d.num_shots)\n",
    "print(\"Estadísticas de las ejecuciones:\", d.get_counts())\n",
    "print(\"Resultados de las medidas:\", d.array)\n",
    "print(\"Resultados de las medidas como cadenas de texto:\", d.get_bitstrings())"
   ]
  },
  {
   "cell_type": "markdown",
   "metadata": {
    "id": "gIyAZOLfze0s"
   },
   "source": [
    "4.- Usando *Operator*, comprueba las siguientes equivalencias de puertas:\n",
    "\n",
    "\n",
    "*   $X^2 = I$ `<- Aquí había una errata`\n",
    "*   $HZH = X$\n",
    "*   $S^4 = I$\n",
    "*   $T^8 = I$\n",
    "\n"
   ]
  },
  {
   "cell_type": "code",
   "execution_count": null,
   "metadata": {
    "id": "sH6SS3t90HVF"
   },
   "outputs": [],
   "source": [
    "qc = QuantumCircuit(1, 1)\n",
    "qc.x(0)\n",
    "qc.x(0)\n",
    "qc.measure(0, 0)\n",
    "\n",
    "qc.draw(\"mpl\")\n",
    "\n",
    "qc.remove_final_measurements()\n",
    "result = Operator(qc).data\n",
    "print(\"Matriz del circuito:\", result)"
   ]
  },
  {
   "cell_type": "code",
   "execution_count": null,
   "metadata": {},
   "outputs": [],
   "source": [
    "qc = QuantumCircuit(1, 1)\n",
    "qc.h(0)\n",
    "qc.z(0)\n",
    "qc.h(0)\n",
    "qc.measure(0, 0)\n",
    "\n",
    "qc.draw(\"mpl\")\n",
    "\n",
    "qc.remove_final_measurements()\n",
    "result = Operator(qc).data\n",
    "print(\"Matriz del circuito:\", result)"
   ]
  },
  {
   "cell_type": "code",
   "execution_count": null,
   "metadata": {},
   "outputs": [],
   "source": [
    "qc = QuantumCircuit(1, 1)\n",
    "for _ in range(4):\n",
    "    qc.s(0)\n",
    "qc.measure(0, 0)\n",
    "\n",
    "qc.draw(\"mpl\")\n",
    "\n",
    "qc.remove_final_measurements()\n",
    "result = Operator(qc).data\n",
    "print(\"Matriz del circuito:\", result)"
   ]
  },
  {
   "cell_type": "code",
   "execution_count": null,
   "metadata": {},
   "outputs": [],
   "source": [
    "qc = QuantumCircuit(1, 1)\n",
    "for _ in range(8):\n",
    "    qc.t(0)\n",
    "qc.measure(0, 0)\n",
    "\n",
    "qc.draw(\"mpl\")\n",
    "\n",
    "qc.remove_final_measurements()\n",
    "result = Operator(qc).data\n",
    "print(\"Matriz del circuito:\", result)"
   ]
  },
  {
   "cell_type": "markdown",
   "metadata": {
    "id": "uQwGykHB2nd2"
   },
   "source": [
    "## BONUS: EJECUCIÓN EN UN ORDENADOR CUÁNTICO REAL"
   ]
  },
  {
   "cell_type": "markdown",
   "metadata": {
    "id": "EK4RR6MN258q"
   },
   "source": [
    "Para ejecutar en un ordenador cuántico real, necesitamos acceder a los servicios de IBM Quantum. Debes copiar tu token de https://quantum.ibm.com/ y pegarlo dentro de las comillas de la asignación de la variable *mytoken*."
   ]
  },
  {
   "cell_type": "code",
   "execution_count": null,
   "metadata": {
    "id": "A353vn4w20PP"
   },
   "outputs": [],
   "source": [
    "mytoken = \"\"\n",
    "\n",
    "from qiskit_ibm_runtime import QiskitRuntimeService\n",
    "from qiskit.transpiler.preset_passmanagers import generate_preset_pass_manager\n",
    "\n",
    "service = QiskitRuntimeService(channel=\"ibm_quantum\", token=mytoken)"
   ]
  },
  {
   "cell_type": "markdown",
   "metadata": {
    "id": "fv4nmV1D3d_x"
   },
   "source": [
    "Ahora, necesitamos hacer dos cosas más:\n",
    "\n",
    "* Seleccionar un ordenador cuántico. Elegiremos el menos ocupado con el método *least_busy*.\n",
    "* Transpilar el circuito para poder ejecutarlo en el ordenador que hemos elegido"
   ]
  },
  {
   "cell_type": "code",
   "execution_count": null,
   "metadata": {
    "id": "Wv_H1Uh53hel"
   },
   "outputs": [],
   "source": [
    "backend = service.least_busy(simulator=False, operational=True)\n",
    "print(\"El ordenador seleccionado ha sido:\", backend)\n",
    "\n",
    "qc2 = QuantumCircuit(1,1)\n",
    "qc2.h(0)\n",
    "qc2.measure(0,0)\n",
    "\n",
    "pm = generate_preset_pass_manager(backend=backend, optimization_level=1)\n",
    "isa_circuit = pm.run(qc2)\n",
    "\n",
    "isa_circuit.draw('mpl', idle_wires=False)"
   ]
  },
  {
   "cell_type": "markdown",
   "metadata": {
    "id": "Oq0nF64O37Ck"
   },
   "source": [
    "Ahora, ya podemos ejecutarlo como hacíamos en el simulador."
   ]
  },
  {
   "cell_type": "code",
   "execution_count": null,
   "metadata": {
    "id": "KdLeg6ok37ex"
   },
   "outputs": [],
   "source": [
    "sampler = Sampler(backend)\n",
    "job = sampler.run([isa_circuit], shots = 10)\n",
    "results = job.result()\n",
    "d = results[0].data.c # Acceso a los valores de las mediciones\n",
    "print(\"Número de ejercuciones:\", d.num_shots)\n",
    "print(\"Estadísticas de las ejecuciones:\", d.get_counts())\n",
    "print(\"Resultados de las medidas:\", d.array)\n",
    "print(\"Resultados de las medidas como cadenas de texto:\", d.get_bitstrings())"
   ]
  }
 ],
 "metadata": {
  "colab": {
   "provenance": []
  },
  "kernelspec": {
   "display_name": "base",
   "language": "python",
   "name": "python3"
  },
  "language_info": {
   "codemirror_mode": {
    "name": "ipython",
    "version": 3
   },
   "file_extension": ".py",
   "mimetype": "text/x-python",
   "name": "python",
   "nbconvert_exporter": "python",
   "pygments_lexer": "ipython3",
   "version": "3.9.21"
  }
 },
 "nbformat": 4,
 "nbformat_minor": 0
}
