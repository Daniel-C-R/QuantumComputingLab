{
 "cells": [
  {
   "cell_type": "markdown",
   "metadata": {
    "id": "C6X9I0Mjdnpy"
   },
   "source": [
    "# PL9 - Introducción a PennyLane\n",
    "\n"
   ]
  },
  {
   "cell_type": "code",
   "execution_count": null,
   "metadata": {
    "id": "IL8LawPgdl8Q"
   },
   "outputs": [],
   "source": [
    "# pip install pennylane # Comprobado con versión 0.39"
   ]
  },
  {
   "cell_type": "code",
   "execution_count": null,
   "metadata": {
    "id": "VJhmhFS9fGf0"
   },
   "outputs": [],
   "source": [
    "import pennylane as qml"
   ]
  },
  {
   "cell_type": "markdown",
   "metadata": {
    "id": "8DfRl7FmSwmx"
   },
   "source": [
    "## Trabajando con un qubit"
   ]
  },
  {
   "cell_type": "markdown",
   "metadata": {
    "id": "tE952RnjRdtR"
   },
   "source": [
    "Vamos a definir un circuito que prepare el estado $\\lvert - \\rangle$"
   ]
  },
  {
   "cell_type": "code",
   "execution_count": null,
   "metadata": {
    "id": "qfk0w-6lfVa2"
   },
   "outputs": [],
   "source": [
    "def qc():\n",
    "    qml.PauliX(wires = 0) # Puerta X en el qubit 0\n",
    "    qml.Hadamard(wires = 0) # Puerta de Hadamard en el qubit 0\n",
    "    return qml.state() # Devolvemos el estado del qubit (sus amplitudes)"
   ]
  },
  {
   "cell_type": "markdown",
   "metadata": {
    "id": "UBWnqygcR8KI"
   },
   "source": [
    "Para ejecutarlo, necesitamos un simulador"
   ]
  },
  {
   "cell_type": "code",
   "execution_count": null,
   "metadata": {
    "id": "GW5_ZmBvRvQk"
   },
   "outputs": [],
   "source": [
    "dev = qml.device('default.qubit', wires = 1) # El número de qubits se indica en *wires*"
   ]
  },
  {
   "cell_type": "markdown",
   "metadata": {
    "id": "WX6Fkel5SA4F"
   },
   "source": [
    "Y necesitamos crear lo que en PennyLane se llama un *QNode*: la unión de un circuito y un dispositivo donde ejecutarlo"
   ]
  },
  {
   "cell_type": "code",
   "execution_count": null,
   "metadata": {
    "id": "4jywiOd2flkz"
   },
   "outputs": [],
   "source": [
    "qcirc = qml.QNode(qc, dev)\n",
    "print(qml.draw(qcirc)())\n",
    "print()\n",
    "print()\n",
    "print(\"Las amplitudes son\", qcirc()) # Ejecución del circuito"
   ]
  },
  {
   "cell_type": "markdown",
   "metadata": {
    "id": "UENgdnDdSg0P"
   },
   "source": [
    "Podemos hacer lo mismo de forma más compacta al definir el circuito"
   ]
  },
  {
   "cell_type": "code",
   "execution_count": null,
   "metadata": {
    "id": "8cGH54ejfmV5"
   },
   "outputs": [],
   "source": [
    "@qml.qnode(dev)\n",
    "def qcirc():\n",
    "    qml.PauliX(wires = 0)\n",
    "    qml.Hadamard(wires = 0)\n",
    "    return qml.state()\n",
    "\n",
    "print(qml.draw(qcirc)())\n",
    "print()\n",
    "print()\n",
    "\n",
    "print(\"Las amplitudes son\", qcirc())"
   ]
  },
  {
   "cell_type": "markdown",
   "metadata": {
    "id": "Xp5uOryKTWsE"
   },
   "source": [
    "En lugar de obtener las amplitudes, podemos calcular directamente las probabilidades"
   ]
  },
  {
   "cell_type": "code",
   "execution_count": null,
   "metadata": {
    "id": "uqJQU5xaTa4q"
   },
   "outputs": [],
   "source": [
    "@qml.qnode(dev)\n",
    "def qcirc():\n",
    "    qml.PauliX(wires = 0)\n",
    "    qml.Hadamard(wires = 0)\n",
    "    return qml.probs()\n",
    "\n",
    "print(qml.draw(qcirc)())\n",
    "print()\n",
    "print()\n",
    "\n",
    "print(\"Las probabilidades son\", qcirc())"
   ]
  },
  {
   "cell_type": "markdown",
   "metadata": {
    "id": "u1F4KTl5UAE0"
   },
   "source": [
    "Y podemos, por supuesto, obtener valores de mediciones"
   ]
  },
  {
   "cell_type": "code",
   "execution_count": null,
   "metadata": {
    "id": "MjT-E4WNT_aH"
   },
   "outputs": [],
   "source": [
    "dev = qml.device('default.qubit', wires = 1, seed = 1234) # Añadimos una semilla para tener reproducibilidad\n",
    "\n",
    "@qml.qnode(dev)\n",
    "def qcirc():\n",
    "    qml.PauliX(wires = 0)\n",
    "    qml.Hadamard(wires = 0)\n",
    "    return qml.sample()\n",
    "\n",
    "print(qml.draw(qcirc)())\n",
    "print()\n",
    "print()\n",
    "\n",
    "print(\"Los resultados son\", qcirc(shots = 10))"
   ]
  },
  {
   "cell_type": "markdown",
   "metadata": {
    "id": "Z809x5ikWnFE"
   },
   "source": [
    "## Trabajando con varios qubits\n",
    "\n",
    "Para trabajar con varios qubits, simplemente especificamos el número de *wires*"
   ]
  },
  {
   "cell_type": "code",
   "execution_count": null,
   "metadata": {
    "id": "yJ1Oc1Q6gOPN"
   },
   "outputs": [],
   "source": [
    "dev = qml.device('default.qubit', wires = 2, seed = 1234)\n",
    "@qml.qnode(dev)\n",
    "def qcirc():\n",
    "    qml.Hadamard(wires = 0)\n",
    "    qml.CNOT(wires = [0,1])\n",
    "    return qml.state()\n",
    "\n",
    "print(qml.draw(qcirc)())\n",
    "print()\n",
    "print()\n",
    "\n",
    "print(\"Las amplitudes son\", qcirc())"
   ]
  },
  {
   "cell_type": "markdown",
   "metadata": {
    "id": "hEmW0qZzXSid"
   },
   "source": [
    "Por supuesto, también podemos obtener probabilidades"
   ]
  },
  {
   "cell_type": "code",
   "execution_count": null,
   "metadata": {
    "id": "Zq7NXk1nXP5G"
   },
   "outputs": [],
   "source": [
    "@qml.qnode(dev)\n",
    "def qcirc():\n",
    "    qml.Hadamard(wires = 0)\n",
    "    qml.CNOT(wires = [0,1])\n",
    "    return qml.probs()\n",
    "\n",
    "print(qml.draw(qcirc)())\n",
    "print()\n",
    "print()\n",
    "\n",
    "print(\"Las probabilidades son\", qcirc())"
   ]
  },
  {
   "cell_type": "markdown",
   "metadata": {
    "id": "OU55VAdgXg1X"
   },
   "source": [
    "Y también podemos obtener resultados de mediciones"
   ]
  },
  {
   "cell_type": "code",
   "execution_count": null,
   "metadata": {
    "id": "kFO8ITY5Xceh"
   },
   "outputs": [],
   "source": [
    "dev = qml.device('default.qubit', wires = 2, seed = 1234)\n",
    "@qml.qnode(dev)\n",
    "def qcirc():\n",
    "    qml.Hadamard(wires = 0)\n",
    "    qml.CNOT(wires = [0,1])\n",
    "    return qml.sample()\n",
    "\n",
    "print(qml.draw(qcirc)())\n",
    "print()\n",
    "print()\n",
    "\n",
    "print(\"Los resultados son\", qcirc(shots = 10))"
   ]
  },
  {
   "cell_type": "markdown",
   "metadata": {
    "id": "xkFzNysHXv0S"
   },
   "source": [
    "## Ejercicios\n",
    "\n",
    "1.- Crea un circuito para preparar el estado de Bell $\\frac{1}{\\sqrt{2}}\\lvert 00\\rangle - \\frac{1}{\\sqrt{2}}\\lvert 11\\rangle$\n",
    "\n",
    "Obten las amplitudes, las probabilidades y el resultado de ejecutar el circuito 10 veces midiendo los dos qubits.\n",
    "\n",
    "Pista: El nombre de la puerta $Z$ en PennyLane es *PauliZ*\n"
   ]
  },
  {
   "cell_type": "code",
   "execution_count": null,
   "metadata": {
    "id": "7RYsSja_Xpc8"
   },
   "outputs": [],
   "source": [
    "dev = qml.device('default.qubit', wires=2, seed=1234)\n",
    "\n",
    "\n",
    "@qml.qnode(dev)\n",
    "def qcirc():\n",
    "    qml.Hadamard(wires=0)\n",
    "    qml.CNOT(wires=[0, 1])\n",
    "    qml.PauliZ(wires=0)\n",
    "    return qml.state()\n",
    "\n",
    "\n",
    "print(qml.draw(qcirc)())\n",
    "print()\n",
    "print()\n",
    "\n",
    "print(\"Los resultados son\", qcirc())"
   ]
  },
  {
   "cell_type": "markdown",
   "metadata": {
    "id": "kNfZAQ0-YcTI"
   },
   "source": [
    "2.- Crea circuitos para implementar el algoritmo de Deutsch como hicimos en la PL5 (con los cuatro casos de función booleana).\n",
    "\n",
    "Nota: Para medir solo parte de los qubits, puedes usar el parámetro *wires* dentro de la llamada a *qml.sample()*"
   ]
  },
  {
   "cell_type": "code",
   "execution_count": null,
   "metadata": {
    "id": "YJ-EUhd-ZCWJ"
   },
   "outputs": [],
   "source": [
    "# f(0) = 0, f(1) = 1\n",
    "\n",
    "dev = qml.device('default.qubit', wires=2, seed=1234)\n",
    "\n",
    "\n",
    "@qml.qnode(dev)\n",
    "def qcirc():\n",
    "    qml.PauliX(wires=0)\n",
    "    qml.Hadamard(wires=0)\n",
    "    qml.Hadamard(wires=1)\n",
    "    qml.CNOT(wires=[0, 1])\n",
    "    qml.Hadamard(wires=0)\n",
    "    return qml.sample(wires=0)\n",
    "\n",
    "\n",
    "print(qml.draw(qcirc)())\n",
    "print()\n",
    "print()\n",
    "\n",
    "print(\"Los resultados son\", qcirc(shots=10))"
   ]
  },
  {
   "cell_type": "code",
   "execution_count": null,
   "metadata": {},
   "outputs": [],
   "source": [
    "# f(0) = 0, f(1) = 1\n",
    "\n",
    "dev = qml.device('default.qubit', wires=2, seed=1234)\n",
    "\n",
    "\n",
    "@qml.qnode(dev)\n",
    "def qcirc():\n",
    "    qml.PauliX(wires=0)\n",
    "    qml.Hadamard(wires=0)\n",
    "    qml.Hadamard(wires=1)\n",
    "    qml.CNOT(wires=[0, 1])\n",
    "    qml.Hadamard(wires=0)\n",
    "    return qml.sample(wires=0)\n",
    "\n",
    "\n",
    "print(qml.draw(qcirc)())\n",
    "print()\n",
    "print()\n",
    "\n",
    "print(\"Los resultados son\", qcirc(shots=10))"
   ]
  },
  {
   "cell_type": "code",
   "execution_count": null,
   "metadata": {},
   "outputs": [],
   "source": [
    "# f(0) = 1, f(1) = 0\n",
    "\n",
    "dev = qml.device('default.qubit', wires=2, seed=1234)\n",
    "\n",
    "\n",
    "@qml.qnode(dev)\n",
    "def qcirc():\n",
    "    qml.PauliX(wires=0)\n",
    "    qml.Hadamard(wires=0)\n",
    "    qml.Hadamard(wires=1)\n",
    "    qml.CNOT(wires=[0, 1])\n",
    "    qml.Hadamard(wires=0)\n",
    "    return qml.sample(wires=0)\n",
    "\n",
    "\n",
    "print(qml.draw(qcirc)())\n",
    "print()\n",
    "print()\n",
    "\n",
    "print(\"Los resultados son\", qcirc(shots=10))"
   ]
  },
  {
   "cell_type": "code",
   "execution_count": null,
   "metadata": {},
   "outputs": [],
   "source": [
    "# f(0) = 1, f(1) = 0\n",
    "\n",
    "dev = qml.device('default.qubit', wires=2, seed=1234)\n",
    "\n",
    "\n",
    "@qml.qnode(dev)\n",
    "def qcirc():\n",
    "    qml.PauliX(wires=0)\n",
    "    qml.Hadamard(wires=0)\n",
    "    qml.Hadamard(wires=1)\n",
    "    qml.CNOT(wires=[0, 1])\n",
    "    qml.Hadamard(wires=0)\n",
    "    return qml.sample(wires=0)\n",
    "\n",
    "\n",
    "print(qml.draw(qcirc)())\n",
    "print()\n",
    "print()\n",
    "\n",
    "print(\"Los resultados son\", qcirc(shots=10))"
   ]
  }
 ],
 "metadata": {
  "colab": {
   "provenance": []
  },
  "kernelspec": {
   "display_name": "base",
   "language": "python",
   "name": "python3"
  },
  "language_info": {
   "codemirror_mode": {
    "name": "ipython",
    "version": 3
   },
   "file_extension": ".py",
   "mimetype": "text/x-python",
   "name": "python",
   "nbconvert_exporter": "python",
   "pygments_lexer": "ipython3",
   "version": "3.9.21"
  }
 },
 "nbformat": 4,
 "nbformat_minor": 0
}
