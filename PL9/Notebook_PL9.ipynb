{
 "cells": [
  {
   "cell_type": "markdown",
   "metadata": {
    "id": "C6X9I0Mjdnpy"
   },
   "source": [
    "# PL9 - Introducción a PennyLane\n",
    "\n"
   ]
  },
  {
   "cell_type": "code",
   "execution_count": 2,
   "metadata": {
    "id": "IL8LawPgdl8Q"
   },
   "outputs": [],
   "source": [
    "# pip install pennylane # Comprobado con versión 0.39"
   ]
  },
  {
   "cell_type": "code",
   "execution_count": 3,
   "metadata": {
    "id": "VJhmhFS9fGf0"
   },
   "outputs": [],
   "source": [
    "import pennylane as qml"
   ]
  },
  {
   "cell_type": "markdown",
   "metadata": {
    "id": "8DfRl7FmSwmx"
   },
   "source": [
    "## Trabajando con un qubit"
   ]
  },
  {
   "cell_type": "markdown",
   "metadata": {
    "id": "tE952RnjRdtR"
   },
   "source": [
    "Vamos a definir un circuito que prepare el estado $\\lvert - \\rangle$"
   ]
  },
  {
   "cell_type": "code",
   "execution_count": 4,
   "metadata": {
    "id": "qfk0w-6lfVa2"
   },
   "outputs": [],
   "source": [
    "def qc():\n",
    "    qml.PauliX(wires = 0) # Puerta X en el qubit 0\n",
    "    qml.Hadamard(wires = 0) # Puerta de Hadamard en el qubit 0\n",
    "    return qml.state() # Devolvemos el estado del qubit (sus amplitudes)"
   ]
  },
  {
   "cell_type": "markdown",
   "metadata": {
    "id": "UBWnqygcR8KI"
   },
   "source": [
    "Para ejecutarlo, necesitamos un simulador"
   ]
  },
  {
   "cell_type": "code",
   "execution_count": 5,
   "metadata": {
    "id": "GW5_ZmBvRvQk"
   },
   "outputs": [],
   "source": [
    "dev = qml.device('default.qubit', wires = 1) # El número de qubits se indica en *wires*"
   ]
  },
  {
   "cell_type": "markdown",
   "metadata": {
    "id": "WX6Fkel5SA4F"
   },
   "source": [
    "Y necesitamos crear lo que en PennyLane se llama un *QNode*: la unión de un circuito y un dispositivo donde ejecutarlo"
   ]
  },
  {
   "cell_type": "code",
   "execution_count": 6,
   "metadata": {
    "id": "4jywiOd2flkz"
   },
   "outputs": [
    {
     "name": "stdout",
     "output_type": "stream",
     "text": [
      "0: ──X──H─┤  State\n",
      "\n",
      "\n",
      "Las amplitudes son [ 0.70710678+0.j -0.70710678+0.j]\n"
     ]
    }
   ],
   "source": [
    "qcirc = qml.QNode(qc, dev)\n",
    "print(qml.draw(qcirc)())\n",
    "print()\n",
    "print()\n",
    "print(\"Las amplitudes son\", qcirc()) # Ejecución del circuito"
   ]
  },
  {
   "cell_type": "markdown",
   "metadata": {
    "id": "UENgdnDdSg0P"
   },
   "source": [
    "Podemos hacer lo mismo de forma más compacta al definir el circuito"
   ]
  },
  {
   "cell_type": "code",
   "execution_count": 7,
   "metadata": {
    "id": "8cGH54ejfmV5"
   },
   "outputs": [
    {
     "name": "stdout",
     "output_type": "stream",
     "text": [
      "0: ──X──H─┤  State\n",
      "\n",
      "\n",
      "Las amplitudes son [ 0.70710678+0.j -0.70710678+0.j]\n"
     ]
    }
   ],
   "source": [
    "@qml.qnode(dev)\n",
    "def qcirc():\n",
    "    qml.PauliX(wires = 0)\n",
    "    qml.Hadamard(wires = 0)\n",
    "    return qml.state()\n",
    "\n",
    "print(qml.draw(qcirc)())\n",
    "print()\n",
    "print()\n",
    "\n",
    "print(\"Las amplitudes son\", qcirc())"
   ]
  },
  {
   "cell_type": "markdown",
   "metadata": {
    "id": "Xp5uOryKTWsE"
   },
   "source": [
    "En lugar de obtener las amplitudes, podemos calcular directamente las probabilidades"
   ]
  },
  {
   "cell_type": "code",
   "execution_count": 9,
   "metadata": {
    "id": "uqJQU5xaTa4q"
   },
   "outputs": [
    {
     "name": "stdout",
     "output_type": "stream",
     "text": [
      "0: ──X──H─┤  Probs\n",
      "\n",
      "\n",
      "Las probabilidades son [0.5 0.5]\n"
     ]
    }
   ],
   "source": [
    "@qml.qnode(dev)\n",
    "def qcirc():\n",
    "    qml.PauliX(wires = 0)\n",
    "    qml.Hadamard(wires = 0)\n",
    "    return qml.probs()\n",
    "\n",
    "print(qml.draw(qcirc)())\n",
    "print()\n",
    "print()\n",
    "\n",
    "print(\"Las probabilidades son\", qcirc())"
   ]
  },
  {
   "cell_type": "markdown",
   "metadata": {
    "id": "u1F4KTl5UAE0"
   },
   "source": [
    "Y podemos, por supuesto, obtener valores de mediciones"
   ]
  },
  {
   "cell_type": "code",
   "execution_count": null,
   "metadata": {
    "id": "MjT-E4WNT_aH"
   },
   "outputs": [
    {
     "name": "stdout",
     "output_type": "stream",
     "text": [
      "0: ──X──H─┤  Sample\n",
      "\n",
      "\n",
      "Los resultados son [1 0 1 0 0 0 0 0 1 0]\n"
     ]
    }
   ],
   "source": [
    "dev = qml.device('default.qubit', wires = 1, seed = 1234) # Añadimos una semilla para tener reproducibilidad\n",
    "\n",
    "@qml.qnode(dev)\n",
    "def qcirc():\n",
    "    qml.PauliX(wires = 0)\n",
    "    qml.Hadamard(wires = 0)\n",
    "    return qml.sample()\n",
    "\n",
    "print(qml.draw(qcirc)())\n",
    "print()\n",
    "print()\n",
    "\n",
    "print(\"Los resultados son\", qcirc(shots = 10))"
   ]
  },
  {
   "cell_type": "markdown",
   "metadata": {
    "id": "Z809x5ikWnFE"
   },
   "source": [
    "## Trabajando con varios qubits\n",
    "\n",
    "Para trabajar con varios qubits, simplemente especificamos el número de *wires*"
   ]
  },
  {
   "cell_type": "code",
   "execution_count": 11,
   "metadata": {
    "id": "yJ1Oc1Q6gOPN"
   },
   "outputs": [
    {
     "name": "stdout",
     "output_type": "stream",
     "text": [
      "0: ──H─╭●─┤  State\n",
      "1: ────╰X─┤  State\n",
      "\n",
      "\n",
      "Las amplitudes son [0.70710678+0.j 0.        +0.j 0.        +0.j 0.70710678+0.j]\n"
     ]
    }
   ],
   "source": [
    "dev = qml.device('default.qubit', wires = 2, seed = 1234)\n",
    "@qml.qnode(dev)\n",
    "def qcirc():\n",
    "    qml.Hadamard(wires = 0)\n",
    "    qml.CNOT(wires = [0,1])\n",
    "    return qml.state()\n",
    "\n",
    "print(qml.draw(qcirc)())\n",
    "print()\n",
    "print()\n",
    "\n",
    "print(\"Las amplitudes son\", qcirc())"
   ]
  },
  {
   "cell_type": "markdown",
   "metadata": {
    "id": "hEmW0qZzXSid"
   },
   "source": [
    "Por supuesto, también podemos obtener probabilidades"
   ]
  },
  {
   "cell_type": "code",
   "execution_count": 12,
   "metadata": {
    "id": "Zq7NXk1nXP5G"
   },
   "outputs": [
    {
     "name": "stdout",
     "output_type": "stream",
     "text": [
      "0: ──H─╭●─┤  Probs\n",
      "1: ────╰X─┤  Probs\n",
      "\n",
      "\n",
      "Las probabilidades son [0.5 0.  0.  0.5]\n"
     ]
    }
   ],
   "source": [
    "@qml.qnode(dev)\n",
    "def qcirc():\n",
    "    qml.Hadamard(wires = 0)\n",
    "    qml.CNOT(wires = [0,1])\n",
    "    return qml.probs()\n",
    "\n",
    "print(qml.draw(qcirc)())\n",
    "print()\n",
    "print()\n",
    "\n",
    "print(\"Las probabilidades son\", qcirc())"
   ]
  },
  {
   "cell_type": "markdown",
   "metadata": {
    "id": "OU55VAdgXg1X"
   },
   "source": [
    "Y también podemos obtener resultados de mediciones"
   ]
  },
  {
   "cell_type": "code",
   "execution_count": null,
   "metadata": {
    "id": "kFO8ITY5Xceh"
   },
   "outputs": [
    {
     "name": "stdout",
     "output_type": "stream",
     "text": [
      "0: ──H─╭●─┤  Sample\n",
      "1: ────╰X─┤  Sample\n",
      "\n",
      "\n",
      "<class 'pennylane.workflow.qnode.QNode'>\n",
      "Los resultados son [[1 1]\n",
      " [0 0]\n",
      " [1 1]\n",
      " [0 0]\n",
      " [0 0]\n",
      " [0 0]\n",
      " [0 0]\n",
      " [0 0]\n",
      " [1 1]\n",
      " [0 0]]\n"
     ]
    }
   ],
   "source": [
    "dev = qml.device('default.qubit', wires = 2, seed = 1234)\n",
    "@qml.qnode(dev)\n",
    "def qcirc():\n",
    "    qml.Hadamard(wires = 0)\n",
    "    qml.CNOT(wires = [0,1])\n",
    "    return qml.sample()\n",
    "\n",
    "print(qml.draw(qcirc)())\n",
    "print()\n",
    "print()\n",
    "\n",
    "print(\"Los resultados son\", qcirc(shots = 10))"
   ]
  },
  {
   "cell_type": "markdown",
   "metadata": {
    "id": "xkFzNysHXv0S"
   },
   "source": [
    "## Ejercicios\n",
    "\n",
    "1.- Crea un circuito para preparar el estado de Bell $\\frac{1}{\\sqrt{2}}\\lvert 00\\rangle - \\frac{1}{\\sqrt{2}}\\lvert 11\\rangle$\n",
    "\n",
    "Obten las amplitudes, las probabilidades y el resultado de ejecutar el circuito 10 veces midiendo los dos qubits.\n",
    "\n",
    "Pista: El nombre de la puerta $Z$ en PennyLane es *PauliZ*\n"
   ]
  },
  {
   "cell_type": "code",
   "execution_count": 31,
   "metadata": {
    "id": "7RYsSja_Xpc8"
   },
   "outputs": [
    {
     "name": "stdout",
     "output_type": "stream",
     "text": [
      "0: ──H─╭●──Z─┤  State\n",
      "1: ────╰X────┤  State\n",
      "\n",
      "\n",
      "Los resultados son [ 0.70710678+0.j  0.        +0.j -0.        +0.j -0.70710678+0.j]\n"
     ]
    }
   ],
   "source": [
    "dev = qml.device('default.qubit', wires=2, seed=1234)\n",
    "\n",
    "\n",
    "@qml.qnode(dev)\n",
    "def qcirc():\n",
    "    qml.Hadamard(wires=0)\n",
    "    qml.CNOT(wires=[0, 1])\n",
    "    qml.PauliZ(wires=0)\n",
    "    return qml.state()\n",
    "\n",
    "\n",
    "print(qml.draw(qcirc)())\n",
    "print()\n",
    "print()\n",
    "\n",
    "print(\"Los resultados son\", qcirc())"
   ]
  },
  {
   "cell_type": "markdown",
   "metadata": {
    "id": "kNfZAQ0-YcTI"
   },
   "source": [
    "2.- Crea circuitos para implementar el algoritmo de Deutsch como hicimos en la PL5 (con los cuatro casos de función booleana).\n",
    "\n",
    "Nota: Para medir solo parte de los qubits, puedes usar el parámetro *wires* dentro de la llamada a *qml.sample()*"
   ]
  },
  {
   "cell_type": "code",
   "execution_count": 33,
   "metadata": {
    "id": "YJ-EUhd-ZCWJ"
   },
   "outputs": [
    {
     "name": "stdout",
     "output_type": "stream",
     "text": [
      "0: ──X──H─╭●──H─┤  Sample\n",
      "1: ──H────╰X────┤        \n",
      "\n",
      "\n",
      "Los resultados son [1 1 1 1 1 1 1 1 1 1]\n"
     ]
    }
   ],
   "source": [
    "# f(0) = 0, f(1) = 1\n",
    "\n",
    "dev = qml.device('default.qubit', wires=2, seed=1234)\n",
    "\n",
    "\n",
    "@qml.qnode(dev)\n",
    "def qcirc():\n",
    "    qml.PauliX(wires=0)\n",
    "    qml.Hadamard(wires=0)\n",
    "    qml.Hadamard(wires=1)\n",
    "    qml.CNOT(wires=[0, 1])\n",
    "    qml.Hadamard(wires=0)\n",
    "    return qml.sample(wires=0)\n",
    "\n",
    "\n",
    "print(qml.draw(qcirc)())\n",
    "print()\n",
    "print()\n",
    "\n",
    "print(\"Los resultados son\", qcirc(shots=10))"
   ]
  },
  {
   "cell_type": "code",
   "execution_count": null,
   "metadata": {},
   "outputs": [],
   "source": [
    "# f(0) = 0, f(1) = 1\n",
    "\n",
    "dev = qml.device('default.qubit', wires=2, seed=1234)\n",
    "\n",
    "\n",
    "@qml.qnode(dev)\n",
    "def qcirc():\n",
    "    qml.PauliX(wires=0)\n",
    "    qml.Hadamard(wires=0)\n",
    "    qml.Hadamard(wires=1)\n",
    "    qml.CNOT(wires=[0, 1])\n",
    "    qml.Hadamard(wires=0)\n",
    "    return qml.sample(wires=0)\n",
    "\n",
    "\n",
    "print(qml.draw(qcirc)())\n",
    "print()\n",
    "print()\n",
    "\n",
    "print(\"Los resultados son\", qcirc(shots=10))"
   ]
  },
  {
   "cell_type": "code",
   "execution_count": null,
   "metadata": {},
   "outputs": [],
   "source": [
    "# f(0) = 1, f(1) = 0\n",
    "\n",
    "dev = qml.device('default.qubit', wires=2, seed=1234)\n",
    "\n",
    "\n",
    "@qml.qnode(dev)\n",
    "def qcirc():\n",
    "    qml.PauliX(wires=0)\n",
    "    qml.Hadamard(wires=0)\n",
    "    qml.Hadamard(wires=1)\n",
    "    qml.CNOT(wires=[0, 1])\n",
    "    qml.Hadamard(wires=0)\n",
    "    return qml.sample(wires=0)\n",
    "\n",
    "\n",
    "print(qml.draw(qcirc)())\n",
    "print()\n",
    "print()\n",
    "\n",
    "print(\"Los resultados son\", qcirc(shots=10))"
   ]
  },
  {
   "cell_type": "code",
   "execution_count": null,
   "metadata": {},
   "outputs": [],
   "source": [
    "# f(0) = 1, f(1) = 0\n",
    "\n",
    "dev = qml.device('default.qubit', wires=2, seed=1234)\n",
    "\n",
    "\n",
    "@qml.qnode(dev)\n",
    "def qcirc():\n",
    "    qml.PauliX(wires=0)\n",
    "    qml.Hadamard(wires=0)\n",
    "    qml.Hadamard(wires=1)\n",
    "    qml.CNOT(wires=[0, 1])\n",
    "    qml.Hadamard(wires=0)\n",
    "    return qml.sample(wires=0)\n",
    "\n",
    "\n",
    "print(qml.draw(qcirc)())\n",
    "print()\n",
    "print()\n",
    "\n",
    "print(\"Los resultados son\", qcirc(shots=10))"
   ]
  }
 ],
 "metadata": {
  "colab": {
   "provenance": []
  },
  "kernelspec": {
   "display_name": ".venv",
   "language": "python",
   "name": "python3"
  },
  "language_info": {
   "codemirror_mode": {
    "name": "ipython",
    "version": 3
   },
   "file_extension": ".py",
   "mimetype": "text/x-python",
   "name": "python",
   "nbconvert_exporter": "python",
   "pygments_lexer": "ipython3",
   "version": "3.10.6"
  }
 },
 "nbformat": 4,
 "nbformat_minor": 0
}
