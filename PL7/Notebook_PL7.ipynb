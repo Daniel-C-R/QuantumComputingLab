{
  "cells": [
    {
      "cell_type": "markdown",
      "metadata": {
        "id": "Lv5-81rqnFt4"
      },
      "source": [
        "#PL7: EQUIVALENCIA DE PUERTAS DE DOS QUBITS"
      ]
    },
    {
      "cell_type": "markdown",
      "metadata": {
        "id": "ibCeJ7NQnO0Q"
      },
      "source": [
        "Comenzamos instalando las librerías necesarias. En el momento de creación de este notebook, las versiones actuales son:\n",
        "\n",
        "\n",
        "*   Qiskit: 1.2.4\n",
        "*   Qiskit IBM Runtime: 0.33.0\n",
        "*   Qiskit Aer: 0.15.1\n",
        "*   Pylatexenc: 2.10\n",
        "\n"
      ]
    },
    {
      "cell_type": "code",
      "execution_count": 1,
      "metadata": {
        "id": "8nmMqzVbfWCa"
      },
      "outputs": [],
      "source": [
        "# !pip install qiskit\n",
        "# !pip install qiskit-ibm-runtime\n",
        "# !pip install qiskit_aer\n",
        "# !pip install pylatexenc"
      ]
    },
    {
      "cell_type": "markdown",
      "metadata": {
        "id": "TcJZDY1FJPiu"
      },
      "source": [
        "Vamos a comprobar equivalencias de puertas de dos qubits con Qiskit. Para ello, la recomendación es utilizar *Operator*, como hicimos en el notebook de la PL3.\n",
        "\n"
      ]
    },
    {
      "cell_type": "markdown",
      "metadata": {
        "id": "LXrMBw2LJqcR"
      },
      "source": [
        "**Ejercicio 1**: Crea un circuito de dos qubits en el que se aplique una puerta *H* a cada qubit, luego una puerta *CNOT* y luego una puerta *H* a cada qubit. Comprueba que esto es equivalente a aplicar una puerta *CNOT* en la dirección contraria de la que has puesto."
      ]
    },
    {
      "cell_type": "code",
      "execution_count": null,
      "metadata": {
        "id": "I2iJ9OwsgRKt"
      },
      "outputs": [],
      "source": []
    },
    {
      "cell_type": "markdown",
      "metadata": {
        "id": "UQo8jo5hKPrw"
      },
      "source": [
        "**Ejercicio 2**: Crea un circuito de dos qubits en el que se aplique una puerta *CNOT*, otra puerta *CNOT* en la dirección contraria y, a continuación, otra puerta *CNOT* como la primera que habías utilizado. Comprueba que esto es equivalente a una puerta *SWAP* (intercambia el estado de los dos qubits). En Qiskit, la puerta *SWAP* se puede utilizar con el metodo *swap(qubit1, qubit2)*."
      ]
    },
    {
      "cell_type": "code",
      "execution_count": null,
      "metadata": {
        "id": "NsFX0QLW_lhK"
      },
      "outputs": [],
      "source": []
    }
  ],
  "metadata": {
    "colab": {
      "provenance": []
    },
    "kernelspec": {
      "display_name": "base",
      "language": "python",
      "name": "python3"
    },
    "language_info": {
      "codemirror_mode": {
        "name": "ipython",
        "version": 3
      },
      "file_extension": ".py",
      "mimetype": "text/x-python",
      "name": "python",
      "nbconvert_exporter": "python",
      "pygments_lexer": "ipython3",
      "version": "3.9.21"
    }
  },
  "nbformat": 4,
  "nbformat_minor": 0
}
