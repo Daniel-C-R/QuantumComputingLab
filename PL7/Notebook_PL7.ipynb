{
  "nbformat": 4,
  "nbformat_minor": 0,
  "metadata": {
    "colab": {
      "provenance": []
    },
    "kernelspec": {
      "name": "python3",
      "display_name": "Python 3"
    },
    "language_info": {
      "name": "python"
    }
  },
  "cells": [
    {
      "cell_type": "markdown",
      "source": [
        "#PL7: EQUIVALENCIA DE PUERTAS DE DOS QUBITS"
      ],
      "metadata": {
        "id": "Lv5-81rqnFt4"
      }
    },
    {
      "cell_type": "markdown",
      "source": [
        "Comenzamos instalando las librerías necesarias. En el momento de creación de este notebook, las versiones actuales son:\n",
        "\n",
        "\n",
        "*   Qiskit: 1.2.4\n",
        "*   Qiskit IBM Runtime: 0.33.0\n",
        "*   Qiskit Aer: 0.15.1\n",
        "*   Pylatexenc: 2.10\n",
        "\n"
      ],
      "metadata": {
        "id": "ibCeJ7NQnO0Q"
      }
    },
    {
      "cell_type": "code",
      "execution_count": null,
      "metadata": {
        "id": "8nmMqzVbfWCa"
      },
      "outputs": [],
      "source": [
        "!pip install qiskit\n",
        "!pip install qiskit-ibm-runtime\n",
        "!pip install qiskit_aer\n",
        "!pip install pylatexenc"
      ]
    },
    {
      "cell_type": "markdown",
      "source": [
        "Vamos a comprobar equivalencias de puertas de dos qubits con Qiskit. Para ello, la recomendación es utilizar *Operator*, como hicimos en el notebook de la PL3.\n",
        "\n"
      ],
      "metadata": {
        "id": "TcJZDY1FJPiu"
      }
    },
    {
      "cell_type": "markdown",
      "source": [
        "**Ejercicio 1**: Crea un circuito de dos qubits en el que se aplique una puerta *H* a cada qubit, luego una puerta *CNOT* y luego una puerta *H* a cada qubit. Comprueba que esto es equivalente a aplicar una puerta *CNOT* en la dirección contraria de la que has puesto."
      ],
      "metadata": {
        "id": "LXrMBw2LJqcR"
      }
    },
    {
      "cell_type": "code",
      "source": [],
      "metadata": {
        "id": "I2iJ9OwsgRKt"
      },
      "execution_count": null,
      "outputs": []
    },
    {
      "cell_type": "markdown",
      "source": [
        "**Ejercicio 2**: Crea un circuito de dos qubits en el que se aplique una puerta *CNOT*, otra puerta *CNOT* en la dirección contraria y, a continuación, otra puerta *CNOT* como la primera que habías utilizado. Comprueba que esto es equivalente a una puerta *SWAP* (intercambia el estado de los dos qubits). En Qiskit, la puerta *SWAP* se puede utilizar con el metodo *swap(qubit1, qubit2)*."
      ],
      "metadata": {
        "id": "UQo8jo5hKPrw"
      }
    },
    {
      "cell_type": "code",
      "source": [],
      "metadata": {
        "id": "NsFX0QLW_lhK"
      },
      "execution_count": null,
      "outputs": []
    }
  ]
}