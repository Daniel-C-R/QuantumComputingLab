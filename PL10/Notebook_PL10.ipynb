{
  "cells": [
    {
      "cell_type": "markdown",
      "metadata": {
        "id": "VusYR-i2dIyy"
      },
      "source": [
        "# PL10 - QSMVs con PennyLane"
      ]
    },
    {
      "cell_type": "code",
      "execution_count": null,
      "metadata": {
        "collapsed": true,
        "id": "_K7vbKWFdHSm"
      },
      "outputs": [],
      "source": [
        "# !pip install pennylane\n",
        "\n",
        "import pennylane as qml"
      ]
    },
    {
      "cell_type": "markdown",
      "metadata": {
        "id": "B2hvEVIkeJv6"
      },
      "source": [
        "## Creación del conjunto de datos\n",
        "\n",
        "Utilizaremos las herramientas de *SciKit Learn* para crear un conjunto de datos con el que trabajar"
      ]
    },
    {
      "cell_type": "code",
      "execution_count": null,
      "metadata": {
        "id": "jO6HhGn-d7W3"
      },
      "outputs": [],
      "source": [
        "import matplotlib\n",
        "from matplotlib import pyplot as plt\n",
        "from sklearn.model_selection import train_test_split\n",
        "from sklearn.datasets import make_blobs\n",
        "\n",
        "seed = 1234\n",
        "\n",
        "X, y = make_blobs(n_samples=200, centers = [[0,2],[2,0]], random_state = seed)\n",
        "X_train, X_test, y_train, y_test = train_test_split(X, y, test_size=0.2, stratify = y, random_state=seed)\n",
        "plt.scatter(X[:, 0], X[:, 1], c = y, cmap=matplotlib.colors.ListedColormap([\"red\",\"green\"]));"
      ]
    },
    {
      "cell_type": "markdown",
      "metadata": {
        "id": "smmfPnOye3eq"
      },
      "source": [
        "Vamos a usar *angle embedding*, así que escalamos los datos al intervalo $[0,\\pi]$."
      ]
    },
    {
      "cell_type": "code",
      "execution_count": null,
      "metadata": {
        "id": "3NRrIiwpeevV"
      },
      "outputs": [],
      "source": [
        "from sklearn.preprocessing import MinMaxScaler\n",
        "import numpy as np\n",
        "\n",
        "scaler = MinMaxScaler(feature_range=(0,np.pi))\n",
        "X_train = scaler.fit_transform(X_train)\n",
        "X_test = scaler.transform(X_test)"
      ]
    },
    {
      "cell_type": "markdown",
      "metadata": {
        "id": "ddUUGF68fGkn"
      },
      "source": [
        "## QUANTUM SUPPORT VECTOR MACHINES"
      ]
    },
    {
      "cell_type": "markdown",
      "metadata": {
        "id": "hiaZFoVqfRu5"
      },
      "source": [
        "Vamos a definir un *kernel* cuántico que calcularemos usando PennyLane"
      ]
    },
    {
      "cell_type": "code",
      "execution_count": null,
      "metadata": {
        "id": "BVb_g1TufPeD"
      },
      "outputs": [],
      "source": [
        "n_qubits = 2\n",
        "dev = qml.device(\"default.qubit\", wires=n_qubits)\n",
        "\n",
        "@qml.qnode(dev)\n",
        "def kernel(x1, x2):\n",
        "    qml.templates.AngleEmbedding(x1, wires=range(n_qubits))\n",
        "    qml.adjoint(qml.templates.AngleEmbedding(x2, wires=range(n_qubits)))\n",
        "    return qml.probs()\n",
        "\n",
        "def kernel_matrix(A, B):\n",
        "    return np.array([[kernel(a, b)[0] for b in B] for a in A])"
      ]
    },
    {
      "cell_type": "markdown",
      "metadata": {
        "id": "hlIKWOFtgXwn"
      },
      "source": [
        "Ahora, usamos *SVC* de *SciKit Learn* para entrenar un SVM con el kernel que hemos construido"
      ]
    },
    {
      "cell_type": "code",
      "execution_count": null,
      "metadata": {
        "id": "pIu2clQsfF_3"
      },
      "outputs": [],
      "source": [
        "from sklearn.svm import SVC\n",
        "from sklearn.metrics import accuracy_score\n",
        "\n",
        "svm = SVC(kernel=kernel_matrix).fit(X_train, y_train)\n",
        "predictions = svm.predict(X_test)\n",
        "accuracy_score(predictions, y_test)"
      ]
    },
    {
      "cell_type": "markdown",
      "metadata": {
        "id": "qc-zN-TlgjX1"
      },
      "source": [
        "# EJERCICIO\n",
        "\n",
        "Crear un dataset de cuatro variables. Clasificarlo usando *QSVM*"
      ]
    },
    {
      "cell_type": "code",
      "execution_count": null,
      "metadata": {
        "id": "g3Yx6ErGiCUH"
      },
      "outputs": [],
      "source": []
    }
  ],
  "metadata": {
    "colab": {
      "provenance": []
    },
    "kernelspec": {
      "display_name": "base",
      "language": "python",
      "name": "python3"
    },
    "language_info": {
      "codemirror_mode": {
        "name": "ipython",
        "version": 3
      },
      "file_extension": ".py",
      "mimetype": "text/x-python",
      "name": "python",
      "nbconvert_exporter": "python",
      "pygments_lexer": "ipython3",
      "version": "3.9.21"
    }
  },
  "nbformat": 4,
  "nbformat_minor": 0
}
